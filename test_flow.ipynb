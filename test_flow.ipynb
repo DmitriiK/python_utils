{
 "cells": [
  {
   "cell_type": "markdown",
   "id": "2e621466",
   "metadata": {},
   "source": [
    "### launching of SPs\n",
    "\n"
   ]
  },
  {
   "cell_type": "code",
   "execution_count": 1,
   "id": "09124eba",
   "metadata": {},
   "outputs": [],
   "source": [
    "from datetime import timedelta\n",
    "from decimal import Decimal\n",
    "from tqdm import tqdm\n",
    "import pandas as pd\n",
    "\n",
    "import pyodbc\n",
    "from sql.config import SQL_SERVER, DB_NAME\n",
    "import sql.naming_convention as nc\n",
    "from sql.sql_requests import SQL_Communicator"
   ]
  },
  {
   "cell_type": "code",
   "execution_count": 2,
   "id": "e3f4aaec",
   "metadata": {},
   "outputs": [],
   "source": [
    "def format_time_delta(duration: timedelta):\n",
    "    # Get the total seconds\n",
    "    total_seconds = duration.total_seconds()\n",
    "    # days = duration.days\n",
    "    hours = duration.seconds // 3600  # Convert seconds to hours\n",
    "    minutes = (duration.seconds // 60) % 60  # Convert remaining seconds to minutes\n",
    "    seconds = duration.seconds % 60\n",
    "    if hours > 0:\n",
    "        return f'{hours:02d}:{minutes:02d}:{int(seconds):02d}'\n",
    "    if minutes > 0:\n",
    "        return f'{minutes:02d}:{int(seconds):02d}'\n",
    "    return f'{total_seconds:4.2f}'"
   ]
  },
  {
   "cell_type": "code",
   "execution_count": 3,
   "id": "7d2590ed",
   "metadata": {},
   "outputs": [
    {
     "name": "stdout",
     "output_type": "stream",
     "text": [
      "connecting...\n",
      "Connection successful!\n"
     ]
    },
    {
     "name": "stderr",
     "output_type": "stream",
     "text": [
      "  0%|          | 0/14 [00:00<?, ?it/s]"
     ]
    },
    {
     "name": "stdout",
     "output_type": "stream",
     "text": [
      "flow for target entity CompanyRel_CompanyRel..\n",
      "- EXEC dbo.PullData_CompanyRel_CompanyRel2_prc...\n",
      "  - duration 01:30\n",
      "rows 13406763, stage table size: 653.203125\n",
      "- EXEC dbo.MergeData_CompanyRel_CompanyRel2_prc...\n"
     ]
    },
    {
     "name": "stderr",
     "output_type": "stream",
     "text": [
      "  7%|▋         | 1/14 [02:30<32:42, 150.95s/it]"
     ]
    },
    {
     "name": "stdout",
     "output_type": "stream",
     "text": [
      "  - duration 01:00\n",
      "flow for target entity Competitors_Competitors..\n",
      "- EXEC dbo.PullData_Competitors_Competitors2_prc...\n",
      "  - duration 2.58\n",
      "rows 920338, stage table size: 31.453125\n",
      "- EXEC dbo.MergeData_Competitors_Competitors2_prc...\n"
     ]
    },
    {
     "name": "stderr",
     "output_type": "stream",
     "text": [
      " 14%|█▍        | 2/14 [02:37<13:14, 66.20s/it] "
     ]
    },
    {
     "name": "stdout",
     "output_type": "stream",
     "text": [
      "  - duration 4.28\n",
      "flow for target entity Competitors_CompetitorToSource..\n",
      "- EXEC dbo.PullData_Competitors_CompetitorToSource2_prc...\n",
      "  - duration 3.00\n",
      "rows 920387, stage table size: 31.453125\n",
      "- EXEC dbo.MergeData_Competitors_CompetitorToSource2_prc...\n"
     ]
    },
    {
     "name": "stderr",
     "output_type": "stream",
     "text": [
      " 21%|██▏       | 3/14 [02:45<07:12, 39.33s/it]"
     ]
    },
    {
     "name": "stdout",
     "output_type": "stream",
     "text": [
      "  - duration 4.35\n",
      "flow for target entity PeopleBasic_Person..\n",
      "- EXEC dbo.PullData_PeopleBasic_Person2_prc...\n",
      "  - duration 27.25\n",
      "rows 5959980, stage table size: 321.140625\n",
      "- EXEC dbo.MergeData_PeopleBasic_Person2_prc...\n"
     ]
    },
    {
     "name": "stderr",
     "output_type": "stream",
     "text": [
      " 29%|██▊       | 4/14 [03:53<08:28, 50.80s/it]"
     ]
    },
    {
     "name": "stdout",
     "output_type": "stream",
     "text": [
      "  - duration 41.13\n",
      "flow for target entity PeopleBasic_ProToProFunction..\n",
      "- EXEC dbo.PullData_PeopleBasic_ProToProFunction2_prc...\n",
      "  - duration 01:36\n",
      "rows 15095858, stage table size: 939.703125\n",
      "- EXEC dbo.MergeData_PeopleBasic_ProToProFunction2_prc...\n"
     ]
    },
    {
     "name": "stderr",
     "output_type": "stream",
     "text": [
      " 36%|███▌      | 5/14 [08:08<18:38, 124.28s/it]"
     ]
    },
    {
     "name": "stdout",
     "output_type": "stream",
     "text": [
      "  - duration 02:37\n",
      "flow for target entity CompanyNames_AlternateCompanyName..\n",
      "- EXEC dbo.PullData_CompanyNames_AlternateCompanyName2_prc...\n",
      "  - duration 15.14\n",
      "rows 2676602, stage table size: 202.703125\n",
      "- EXEC dbo.MergeData_CompanyNames_AlternateCompanyName2_prc...\n"
     ]
    },
    {
     "name": "stderr",
     "output_type": "stream",
     "text": [
      " 43%|████▎     | 6/14 [08:37<12:14, 91.85s/it] "
     ]
    },
    {
     "name": "stdout",
     "output_type": "stream",
     "text": [
      "  - duration 13.69\n",
      "flow for target entity CompanyNames_SearchCompanyName..\n",
      "- EXEC dbo.PullData_CompanyNames_SearchCompanyName2_prc...\n",
      "  - duration 11:27\n",
      "rows 161240439, stage table size: 10684.398437\n",
      "- EXEC dbo.MergeData_CompanyNames_SearchCompanyName2_prc...\n"
     ]
    },
    {
     "name": "stderr",
     "output_type": "stream",
     "text": [
      " 50%|█████     | 7/14 [34:36<1:06:41, 571.60s/it]"
     ]
    },
    {
     "name": "stdout",
     "output_type": "stream",
     "text": [
      "  - duration 14:31\n",
      "flow for target entity KeyDocument_KeyDocumentToSecurity..\n",
      "- EXEC dbo.PullData_KeyDocument_KeyDocumentToSecurity2_prc...\n",
      "  - duration 13.12\n",
      "rows 886611, stage table size: 79.140625\n",
      "- EXEC dbo.MergeData_KeyDocument_KeyDocumentToSecurity2_prc...\n"
     ]
    },
    {
     "name": "stderr",
     "output_type": "stream",
     "text": [
      " 57%|█████▋    | 8/14 [34:50<39:25, 394.28s/it]  "
     ]
    },
    {
     "name": "stdout",
     "output_type": "stream",
     "text": [
      "  - duration 1.39\n",
      "flow for target entity FinAuditor_FinancialToAdvisor..\n",
      "- EXEC dbo.PullData_FinAuditor_FinancialToAdvisor2_prc...\n",
      "  - duration 3.20\n",
      "rows 1229242, stage table size: 47.953125\n",
      "- EXEC dbo.MergeData_FinAuditor_FinancialToAdvisor2_prc...\n"
     ]
    },
    {
     "name": "stderr",
     "output_type": "stream",
     "text": [
      " 64%|██████▍   | 9/14 [35:00<22:50, 274.13s/it]"
     ]
    },
    {
     "name": "stdout",
     "output_type": "stream",
     "text": [
      "  - duration 6.67\n",
      "flow for target entity BusinessRel_BusinessRel..\n",
      "- EXEC dbo.PullData_BusinessRel_BusinessRel2_prc...\n",
      "shit happened ('42000', \"[42000] [Microsoft][ODBC Driver 17 for SQL Server][SQL Server]Could not find stored procedure 'dbo.PullData_BusinessRel_BusinessRel2_prc'. (2812) (SQLExecDirectW)\")\n",
      "- EXEC dbo.MergeData_BusinessRel_BusinessRel2_prc...\n",
      "shit happened ('42000', \"[42000] [Microsoft][ODBC Driver 17 for SQL Server][SQL Server]Could not find stored procedure 'dbo.MergeData_BusinessRel_BusinessRel2_prc'. (2812) (SQLExecDirectW)\")\n",
      "flow for target entity Product_Product..\n",
      "- EXEC dbo.PullData_Product_Product2_prc...\n"
     ]
    },
    {
     "name": "stderr",
     "output_type": "stream",
     "text": [
      " 79%|███████▊  | 11/14 [35:13<07:23, 147.69s/it]"
     ]
    },
    {
     "name": "stdout",
     "output_type": "stream",
     "text": [
      "shit happened ('23000', \"[23000] [Microsoft][ODBC Driver 17 for SQL Server][SQL Server]Cannot insert duplicate key row in object 'stg.Product_Product_tbl' with unique index 'IX_product_productID'. The duplicate key value is (912745051). (2601) (SQLExecDirectW); [23000] [Microsoft][ODBC Driver 17 for SQL Server][SQL Server]The statement has been terminated. (3621)\")\n",
      "- EXEC dbo.MergeData_Product_Product2_prc...\n",
      "  - duration 0.04\n",
      "flow for target entity KeyDocument_KeyDocument..\n",
      "- EXEC dbo.PullData_KeyDocument_KeyDocument2_prc...\n",
      "  - duration 50.02\n",
      "rows 2713791, stage table size: 439.515625\n",
      "- EXEC dbo.MergeData_KeyDocument_KeyDocument2_prc...\n"
     ]
    },
    {
     "name": "stderr",
     "output_type": "stream",
     "text": [
      " 86%|████████▌ | 12/14 [36:39<04:24, 132.30s/it]"
     ]
    },
    {
     "name": "stdout",
     "output_type": "stream",
     "text": [
      "  - duration 36.53\n",
      "flow for target entity PeopleBasic_Professional..\n",
      "- EXEC dbo.PullData_PeopleBasic_Professional2_prc...\n",
      "  - duration 01:17\n",
      "rows 10688109, stage table size: 829.335937\n",
      "- EXEC dbo.MergeData_PeopleBasic_Professional2_prc...\n"
     ]
    },
    {
     "name": "stderr",
     "output_type": "stream",
     "text": [
      " 93%|█████████▎| 13/14 [39:28<02:21, 141.83s/it]"
     ]
    },
    {
     "name": "stdout",
     "output_type": "stream",
     "text": [
      "  - duration 01:30\n",
      "flow for target entity CompanyNames_NativeCompanyName..\n",
      "- EXEC dbo.PullData_CompanyNames_NativeCompanyName2_prc...\n",
      "  - duration 2.51\n",
      "rows 285343, stage table size: 36.453125\n",
      "- EXEC dbo.MergeData_CompanyNames_NativeCompanyName2_prc...\n"
     ]
    },
    {
     "name": "stderr",
     "output_type": "stream",
     "text": [
      "100%|██████████| 14/14 [39:32<00:00, 169.43s/it]"
     ]
    },
    {
     "name": "stdout",
     "output_type": "stream",
     "text": [
      "  - duration 1.39\n",
      "done\n"
     ]
    },
    {
     "name": "stderr",
     "output_type": "stream",
     "text": [
      "\n"
     ]
    }
   ],
   "source": [
    "entity_names =[\n",
    "'CompanyRel_CompanyRel',\n",
    "'Competitors_Competitors',\n",
    "'Competitors_CompetitorToSource',\n",
    "'PeopleBasic_Person',\n",
    "'PeopleBasic_ProToProFunction',\n",
    "'CompanyNames_AlternateCompanyName',\n",
    "'CompanyNames_SearchCompanyName',\n",
    "'KeyDocument_KeyDocumentToSecurity',\n",
    "'FinAuditor_FinancialToAdvisor',\n",
    "'BusinessRel_BusinessRel',\n",
    "'Product_Product',\n",
    "'KeyDocument_KeyDocument',\n",
    "'PeopleBasic_Professional',\n",
    "'CompanyNames_NativeCompanyName'\n",
    "]\n",
    "\n",
    "durations, cnt = [], 0\n",
    "with SQL_Communicator() as sc:\n",
    "    for en in tqdm(entity_names):\n",
    "        cnt += 1\n",
    "        print(f'flow for target entity {en}..')\n",
    "        en2 = nc.default_rename(en)\n",
    "        sp_names = [nc.pull_sp_name(en2), nc.merge_sp_name(en2)]\n",
    "        stage_tbl = nc.stg_table_name(en)\n",
    "        trg_tbl = nc.table_name(nc.default_rename(en))\n",
    "        ent_durs, flow_td = [en2], timedelta()  \n",
    "        for i, sp_name in enumerate(sp_names):\n",
    "            exec_stm = f\"EXEC {sp_name}\"\n",
    "            print(f'- {exec_stm}...')\n",
    "            try:\n",
    "                td = sc.get_execution_metrics(exec_stm)\n",
    "                ent_durs.append(format_time_delta(td))\n",
    "                if i < 2:\n",
    "                    flow_td +=td\n",
    "                if  i == 1:\n",
    "                    ent_durs.append(format_time_delta(flow_td))\n",
    "                print(f'  - duration {format_time_delta(td)}')\n",
    "                if i == 0:  ## pull sp\n",
    "                    rows_count, table_size = sc.get_table_size(stage_tbl)\n",
    "                    print(f'rows {rows_count}, stage table size: {table_size}')\n",
    "                # sc.get_execution_metrics(f'TRUNCATE table {trg_tbl}')\n",
    "            except Exception as ex:\n",
    "                print(f'shit happened {ex}')\n",
    "        rows_count = rows_count /1000\n",
    "        velocity = table_size / Decimal(flow_td.total_seconds()) if flow_td.total_seconds() else 0 \n",
    "        ent_durs.extend([f'{rows_count:7.2f}' , f'{table_size:7.2f}', f'{velocity:7.2f}'])\n",
    "        durations.append(ent_durs)\n",
    "        if cnt == len(entity_names):\n",
    "            print('done')\n",
    "sc = None\n",
    "        # ent_durs.append(sum(ent_durs))\n"
   ]
  },
  {
   "cell_type": "code",
   "execution_count": 4,
   "id": "9e97f970",
   "metadata": {},
   "outputs": [
    {
     "data": {
      "text/html": [
       "<div>\n",
       "<style scoped>\n",
       "    .dataframe tbody tr th:only-of-type {\n",
       "        vertical-align: middle;\n",
       "    }\n",
       "\n",
       "    .dataframe tbody tr th {\n",
       "        vertical-align: top;\n",
       "    }\n",
       "\n",
       "    .dataframe thead th {\n",
       "        text-align: right;\n",
       "    }\n",
       "</style>\n",
       "<table border=\"1\" class=\"dataframe\">\n",
       "  <thead>\n",
       "    <tr style=\"text-align: right;\">\n",
       "      <th></th>\n",
       "      <th>Entity name</th>\n",
       "      <th>Pull SP</th>\n",
       "      <th>Merge SP</th>\n",
       "      <th>sum</th>\n",
       "      <th>rows_count, K</th>\n",
       "      <th>table_size, MB</th>\n",
       "      <th>velocity, MB/sec</th>\n",
       "    </tr>\n",
       "  </thead>\n",
       "  <tbody>\n",
       "    <tr>\n",
       "      <th>0</th>\n",
       "      <td>CompanyRel_CompanyRel2</td>\n",
       "      <td>01:30</td>\n",
       "      <td>01:00</td>\n",
       "      <td>02:30</td>\n",
       "      <td>13406.76</td>\n",
       "      <td>653.20</td>\n",
       "      <td>4.33</td>\n",
       "    </tr>\n",
       "    <tr>\n",
       "      <th>1</th>\n",
       "      <td>Competitors_Competitors2</td>\n",
       "      <td>2.58</td>\n",
       "      <td>4.28</td>\n",
       "      <td>6.85</td>\n",
       "      <td>920.34</td>\n",
       "      <td>31.45</td>\n",
       "      <td>4.59</td>\n",
       "    </tr>\n",
       "    <tr>\n",
       "      <th>2</th>\n",
       "      <td>Competitors_CompetitorToSource2</td>\n",
       "      <td>3.00</td>\n",
       "      <td>4.35</td>\n",
       "      <td>7.34</td>\n",
       "      <td>920.39</td>\n",
       "      <td>31.45</td>\n",
       "      <td>4.28</td>\n",
       "    </tr>\n",
       "    <tr>\n",
       "      <th>3</th>\n",
       "      <td>PeopleBasic_Person2</td>\n",
       "      <td>27.25</td>\n",
       "      <td>41.13</td>\n",
       "      <td>01:08</td>\n",
       "      <td>5959.98</td>\n",
       "      <td>321.14</td>\n",
       "      <td>4.70</td>\n",
       "    </tr>\n",
       "    <tr>\n",
       "      <th>4</th>\n",
       "      <td>PeopleBasic_ProToProFunction2</td>\n",
       "      <td>01:36</td>\n",
       "      <td>02:37</td>\n",
       "      <td>04:14</td>\n",
       "      <td>15095.86</td>\n",
       "      <td>939.70</td>\n",
       "      <td>3.69</td>\n",
       "    </tr>\n",
       "    <tr>\n",
       "      <th>5</th>\n",
       "      <td>CompanyNames_AlternateCompanyName2</td>\n",
       "      <td>15.14</td>\n",
       "      <td>13.69</td>\n",
       "      <td>28.83</td>\n",
       "      <td>2676.60</td>\n",
       "      <td>202.70</td>\n",
       "      <td>7.03</td>\n",
       "    </tr>\n",
       "    <tr>\n",
       "      <th>6</th>\n",
       "      <td>CompanyNames_SearchCompanyName2</td>\n",
       "      <td>11:27</td>\n",
       "      <td>14:31</td>\n",
       "      <td>25:59</td>\n",
       "      <td>161240.44</td>\n",
       "      <td>10684.40</td>\n",
       "      <td>6.85</td>\n",
       "    </tr>\n",
       "    <tr>\n",
       "      <th>7</th>\n",
       "      <td>KeyDocument_KeyDocumentToSecurity2</td>\n",
       "      <td>13.12</td>\n",
       "      <td>1.39</td>\n",
       "      <td>14.51</td>\n",
       "      <td>886.61</td>\n",
       "      <td>79.14</td>\n",
       "      <td>5.45</td>\n",
       "    </tr>\n",
       "    <tr>\n",
       "      <th>8</th>\n",
       "      <td>FinAuditor_FinancialToAdvisor2</td>\n",
       "      <td>3.20</td>\n",
       "      <td>6.67</td>\n",
       "      <td>9.87</td>\n",
       "      <td>1229.24</td>\n",
       "      <td>47.95</td>\n",
       "      <td>4.86</td>\n",
       "    </tr>\n",
       "    <tr>\n",
       "      <th>9</th>\n",
       "      <td>BusinessRel_BusinessRel2</td>\n",
       "      <td>1.23</td>\n",
       "      <td>47.95</td>\n",
       "      <td>0.00</td>\n",
       "      <td>None</td>\n",
       "      <td>None</td>\n",
       "      <td>None</td>\n",
       "    </tr>\n",
       "    <tr>\n",
       "      <th>10</th>\n",
       "      <td>Product_Product2</td>\n",
       "      <td>0.04</td>\n",
       "      <td>0.04</td>\n",
       "      <td>0.00</td>\n",
       "      <td>47.95</td>\n",
       "      <td>1284.50</td>\n",
       "      <td>None</td>\n",
       "    </tr>\n",
       "    <tr>\n",
       "      <th>11</th>\n",
       "      <td>KeyDocument_KeyDocument2</td>\n",
       "      <td>50.02</td>\n",
       "      <td>36.53</td>\n",
       "      <td>01:26</td>\n",
       "      <td>2713.79</td>\n",
       "      <td>439.52</td>\n",
       "      <td>5.08</td>\n",
       "    </tr>\n",
       "    <tr>\n",
       "      <th>12</th>\n",
       "      <td>PeopleBasic_Professional2</td>\n",
       "      <td>01:17</td>\n",
       "      <td>01:30</td>\n",
       "      <td>02:48</td>\n",
       "      <td>10688.11</td>\n",
       "      <td>829.34</td>\n",
       "      <td>4.93</td>\n",
       "    </tr>\n",
       "    <tr>\n",
       "      <th>13</th>\n",
       "      <td>CompanyNames_NativeCompanyName2</td>\n",
       "      <td>2.51</td>\n",
       "      <td>1.39</td>\n",
       "      <td>3.90</td>\n",
       "      <td>285.34</td>\n",
       "      <td>36.45</td>\n",
       "      <td>9.34</td>\n",
       "    </tr>\n",
       "  </tbody>\n",
       "</table>\n",
       "</div>"
      ],
      "text/plain": [
       "                           Entity name  Pull SP Merge SP      sum  \\\n",
       "0               CompanyRel_CompanyRel2    01:30    01:00    02:30   \n",
       "1             Competitors_Competitors2     2.58     4.28     6.85   \n",
       "2      Competitors_CompetitorToSource2     3.00     4.35     7.34   \n",
       "3                  PeopleBasic_Person2    27.25    41.13    01:08   \n",
       "4        PeopleBasic_ProToProFunction2    01:36    02:37    04:14   \n",
       "5   CompanyNames_AlternateCompanyName2    15.14    13.69    28.83   \n",
       "6      CompanyNames_SearchCompanyName2    11:27    14:31    25:59   \n",
       "7   KeyDocument_KeyDocumentToSecurity2    13.12     1.39    14.51   \n",
       "8       FinAuditor_FinancialToAdvisor2     3.20     6.67     9.87   \n",
       "9             BusinessRel_BusinessRel2     1.23    47.95     0.00   \n",
       "10                    Product_Product2     0.04     0.04     0.00   \n",
       "11            KeyDocument_KeyDocument2    50.02    36.53    01:26   \n",
       "12           PeopleBasic_Professional2    01:17    01:30    02:48   \n",
       "13     CompanyNames_NativeCompanyName2     2.51     1.39     3.90   \n",
       "\n",
       "   rows_count, K table_size, MB velocity, MB/sec  \n",
       "0       13406.76         653.20             4.33  \n",
       "1         920.34          31.45             4.59  \n",
       "2         920.39          31.45             4.28  \n",
       "3        5959.98         321.14             4.70  \n",
       "4       15095.86         939.70             3.69  \n",
       "5        2676.60         202.70             7.03  \n",
       "6      161240.44       10684.40             6.85  \n",
       "7         886.61          79.14             5.45  \n",
       "8        1229.24          47.95             4.86  \n",
       "9           None           None             None  \n",
       "10         47.95        1284.50             None  \n",
       "11       2713.79         439.52             5.08  \n",
       "12      10688.11         829.34             4.93  \n",
       "13        285.34          36.45             9.34  "
      ]
     },
     "execution_count": 4,
     "metadata": {},
     "output_type": "execute_result"
    }
   ],
   "source": [
    "columns = ['Entity name', 'Pull SP', 'Merge SP', 'sum',  'rows_count, K', 'table_size, MB', 'velocity, MB/sec']\n",
    "df = pd.DataFrame(durations, columns = columns)\n",
    "# df['table_size, MB'] = df ['table_size, MB'].astype('int')\n",
    "# df['rows_count, K'] = df['rows_count, K']/1000\n",
    "df"
   ]
  }
 ],
 "metadata": {
  "kernelspec": {
   "display_name": "Python 3 (ipykernel)",
   "language": "python",
   "name": "python3"
  },
  "language_info": {
   "codemirror_mode": {
    "name": "ipython",
    "version": 3
   },
   "file_extension": ".py",
   "mimetype": "text/x-python",
   "name": "python",
   "nbconvert_exporter": "python",
   "pygments_lexer": "ipython3",
   "version": "3.12.3"
  }
 },
 "nbformat": 4,
 "nbformat_minor": 5
}
