{
 "cells": [
  {
   "cell_type": "markdown",
   "id": "2e621466",
   "metadata": {},
   "source": [
    "### launching of SPs\n",
    "\n"
   ]
  },
  {
   "cell_type": "code",
   "execution_count": 1,
   "id": "09124eba",
   "metadata": {},
   "outputs": [],
   "source": [
    "from datetime import timedelta\n",
    "import pandas as pd\n",
    "\n",
    "import pyodbc\n",
    "from sql.config import SQL_SERVER, DB_NAME\n",
    "import sql.naming_convention as nc\n",
    "from sql.sql_requests import SQL_Communicator"
   ]
  },
  {
   "cell_type": "code",
   "execution_count": 2,
   "id": "e3f4aaec",
   "metadata": {},
   "outputs": [],
   "source": [
    "def format_time_delta(duration: timedelta):\n",
    "    # Get the total seconds\n",
    "    total_seconds = duration.total_seconds()\n",
    "    # days = duration.days\n",
    "    hours = duration.seconds // 3600  # Convert seconds to hours\n",
    "    minutes = (duration.seconds // 60) % 60  # Convert remaining seconds to minutes\n",
    "    seconds = duration.seconds % 60\n",
    "    if hours > 0:\n",
    "        return f'{hours:02d}:{minutes:02d}:{int(seconds):02d}'\n",
    "    if minutes > 0:\n",
    "        return f'{minutes:02d}:{int(seconds):02d}'\n",
    "    return f'{total_seconds:4.2f}'"
   ]
  },
  {
   "cell_type": "code",
   "execution_count": 3,
   "id": "7d2590ed",
   "metadata": {},
   "outputs": [
    {
     "name": "stdout",
     "output_type": "stream",
     "text": [
      "connecting...\n",
      "Connection successful!\n",
      "flow for target entity Symbol_IBESTickerEnhanced..\n",
      "- EXEC dbo.PullData_Symbol_IBESTickerEnhanced2_prc...\n",
      "- EXEC dbo.MergeData_Symbol_IBESTickerEnhanced2_prc...\n",
      "['Symbol_IBESTickerEnhanced2', '0.41', '1.07', '1.48']\n",
      "flow for target entity Symbol_TickerEnhanced..\n",
      "- EXEC dbo.PullData_Symbol_TickerEnhanced2_prc...\n",
      "- EXEC dbo.MergeData_Symbol_TickerEnhanced2_prc...\n"
     ]
    }
   ],
   "source": [
    "entity_names =  ['Symbol_IBESTickerEnhanced',\n",
    "        'Symbol_TickerEnhanced',\n",
    "        'Symbol_CusipEnhanced',\n",
    "        'Symbol_FTCusip6Symbol',\n",
    "        'Symbol_FTCusip9Symbol',\n",
    "        'Symbol_FTISINSymbol',\n",
    "        'Symbol_ISINEnhanced',\n",
    "        'Symbol_SECCIKEnhanced',\n",
    "        'Symbol_SECCIKSymbol',\n",
    "        'Symbol_SedolEnhanced',\n",
    "        'Symbol_FTSEDOLSymbol',]\n",
    "\n",
    "durations = []\n",
    "with SQL_Communicator() as sc:\n",
    "    for en in entity_names:\n",
    "        print(f'flow for target entity {en}..')\n",
    "        en2 = nc.default_rename(en)\n",
    "        sp_names = [nc.pull_sp_name(en2), nc.merge_sp_name(en2)]\n",
    "        ent_durs, flow_td = [en2], timedelta()  \n",
    "        for sp_name in sp_names:\n",
    "            exec_stm = f\"EXEC {sp_name}\"\n",
    "            print(f'- {exec_stm}...')\n",
    "            td = sc.get_execution_metrics(exec_stm)\n",
    "            ent_durs.append(format_time_delta(td))\n",
    "            flow_td += td\n",
    "        ent_durs.append(format_time_delta(flow_td))\n",
    "        durations.append(ent_durs)\n",
    "        # ent_durs.append(sum(ent_durs))\n",
    "columns = ['Entity name', 'Pull SP', 'Merge SP',  'sum']\n",
    "df = pd.DataFrame(durations, columns = columns)\n"
   ]
  },
  {
   "cell_type": "code",
   "execution_count": 7,
   "id": "9e97f970",
   "metadata": {},
   "outputs": [
    {
     "data": {
      "text/html": [
       "<div>\n",
       "<style scoped>\n",
       "    .dataframe tbody tr th:only-of-type {\n",
       "        vertical-align: middle;\n",
       "    }\n",
       "\n",
       "    .dataframe tbody tr th {\n",
       "        vertical-align: top;\n",
       "    }\n",
       "\n",
       "    .dataframe thead th {\n",
       "        text-align: right;\n",
       "    }\n",
       "</style>\n",
       "<table border=\"1\" class=\"dataframe\">\n",
       "  <thead>\n",
       "    <tr style=\"text-align: right;\">\n",
       "      <th></th>\n",
       "      <th>Entity name</th>\n",
       "      <th>Pull SP</th>\n",
       "      <th>Merge SP</th>\n",
       "      <th>sum</th>\n",
       "    </tr>\n",
       "  </thead>\n",
       "  <tbody>\n",
       "    <tr>\n",
       "      <th>0</th>\n",
       "      <td>Symbol_FTCusip6Symbol2</td>\n",
       "      <td>1.69</td>\n",
       "      <td>2.94</td>\n",
       "      <td>4.63</td>\n",
       "    </tr>\n",
       "  </tbody>\n",
       "</table>\n",
       "</div>"
      ],
      "text/plain": [
       "              Entity name Pull SP Merge SP   sum\n",
       "0  Symbol_FTCusip6Symbol2    1.69     2.94  4.63"
      ]
     },
     "execution_count": 7,
     "metadata": {},
     "output_type": "execute_result"
    }
   ],
   "source": [
    "df"
   ]
  }
 ],
 "metadata": {
  "kernelspec": {
   "display_name": "Python 3 (ipykernel)",
   "language": "python",
   "name": "python3"
  },
  "language_info": {
   "codemirror_mode": {
    "name": "ipython",
    "version": 3
   },
   "file_extension": ".py",
   "mimetype": "text/x-python",
   "name": "python",
   "nbconvert_exporter": "python",
   "pygments_lexer": "ipython3",
   "version": "3.12.3"
  }
 },
 "nbformat": 4,
 "nbformat_minor": 5
}
