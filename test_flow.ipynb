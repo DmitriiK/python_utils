{
 "cells": [
  {
   "cell_type": "markdown",
   "id": "2e621466",
   "metadata": {},
   "source": [
    "### launching of SPs\n",
    "\n"
   ]
  },
  {
   "cell_type": "code",
   "execution_count": 1,
   "id": "09124eba",
   "metadata": {},
   "outputs": [],
   "source": [
    "from datetime import timedelta\n",
    "from decimal import Decimal\n",
    "from tqdm import tqdm\n",
    "import pandas as pd\n",
    "\n",
    "import pyodbc\n",
    "from sql.config import SQL_SERVER, DB_NAME\n",
    "import sql.naming_convention as nc\n",
    "from sql.sql_requests import SQL_Communicator"
   ]
  },
  {
   "cell_type": "code",
   "execution_count": 2,
   "id": "e3f4aaec",
   "metadata": {},
   "outputs": [],
   "source": [
    "def format_time_delta(duration: timedelta):\n",
    "    # Get the total seconds\n",
    "    total_seconds = duration.total_seconds()\n",
    "    # days = duration.days\n",
    "    hours = duration.seconds // 3600  # Convert seconds to hours\n",
    "    minutes = (duration.seconds // 60) % 60  # Convert remaining seconds to minutes\n",
    "    seconds = duration.seconds % 60\n",
    "    if hours > 0:\n",
    "        return f'{hours:02d}:{minutes:02d}:{int(seconds):02d}'\n",
    "    if minutes > 0:\n",
    "        return f'{minutes:02d}:{int(seconds):02d}'\n",
    "    return f'{total_seconds:4.2f}'"
   ]
  },
  {
   "cell_type": "code",
   "execution_count": 3,
   "id": "7d2590ed",
   "metadata": {},
   "outputs": [
    {
     "name": "stdout",
     "output_type": "stream",
     "text": [
      "connecting...\n",
      "Connection successful!\n"
     ]
    },
    {
     "name": "stderr",
     "output_type": "stream",
     "text": [
      "  0%|          | 0/6 [00:00<?, ?it/s]"
     ]
    },
    {
     "name": "stdout",
     "output_type": "stream",
     "text": [
      "flow for target entity Professional_Compensation..\n",
      "- EXEC dbo.PullData_Professional_Compensation2_prc...\n",
      "  - duration 02:44\n",
      "rows 48222280, stage table size: 3795.203125\n",
      "- EXEC dbo.MergeData_Professional_Compensation2_prc...\n",
      "  - duration 05:52\n",
      "- EXEC dbo.MergeDataDirect_Professional_Compensation2_prc...\n"
     ]
    },
    {
     "name": "stderr",
     "output_type": "stream",
     "text": [
      " 17%|█▋        | 1/6 [12:52<1:04:22, 772.41s/it]"
     ]
    },
    {
     "name": "stdout",
     "output_type": "stream",
     "text": [
      "  - duration 04:15\n",
      "flow for target entity Professional_Person..\n",
      "- EXEC dbo.PullData_Professional_Person2_prc...\n",
      "  - duration 40.43\n",
      "rows 5959980, stage table size: 361.015625\n",
      "- EXEC dbo.MergeData_Professional_Person2_prc...\n",
      "  - duration 48.71\n",
      "- EXEC dbo.MergeDataDirect_Professional_Person2_prc...\n"
     ]
    },
    {
     "name": "stderr",
     "output_type": "stream",
     "text": [
      " 33%|███▎      | 2/6 [15:26<27:14, 408.61s/it]  "
     ]
    },
    {
     "name": "stdout",
     "output_type": "stream",
     "text": [
      "  - duration 01:04\n",
      "flow for target entity Professional_BiographyPerson..\n",
      "- EXEC dbo.PullData_Professional_BiographyPerson2_prc...\n",
      "  - duration 01:23\n",
      "rows 5367678, stage table size: 3037.578125\n",
      "- EXEC dbo.MergeData_Professional_BiographyPerson2_prc...\n",
      "  - duration 36.29\n",
      "- EXEC dbo.MergeDataDirect_Professional_BiographyPerson2_prc...\n"
     ]
    },
    {
     "name": "stderr",
     "output_type": "stream",
     "text": [
      " 50%|█████     | 3/6 [19:41<16:55, 338.51s/it]"
     ]
    },
    {
     "name": "stdout",
     "output_type": "stream",
     "text": [
      "  - duration 02:15\n",
      "flow for target entity Professional_Professional..\n",
      "- EXEC dbo.PullData_Professional_Professional2_prc...\n",
      "  - duration 03:50\n",
      "rows 10688109, stage table size: 1825.593750\n",
      "- EXEC dbo.MergeData_Professional_Professional2_prc...\n",
      "  - duration 04:45\n",
      "- EXEC dbo.MergeDataDirect_Professional_Professional2_prc...\n"
     ]
    },
    {
     "name": "stderr",
     "output_type": "stream",
     "text": [
      " 67%|██████▋   | 4/6 [33:29<17:43, 531.86s/it]"
     ]
    },
    {
     "name": "stdout",
     "output_type": "stream",
     "text": [
      "  - duration 05:12\n",
      "flow for target entity Professional_ProfessionalCoverage..\n",
      "- EXEC dbo.PullData_Professional_ProfessionalCoverage2_prc...\n",
      "  - duration 0.92\n",
      "rows 215352, stage table size: 7.578125\n",
      "- EXEC dbo.MergeData_Professional_ProfessionalCoverage2_prc...\n",
      "  - duration 1.13\n",
      "- EXEC dbo.MergeDataDirect_Professional_ProfessionalCoverage2_prc...\n"
     ]
    },
    {
     "name": "stderr",
     "output_type": "stream",
     "text": [
      " 83%|████████▎ | 5/6 [33:33<05:41, 341.35s/it]"
     ]
    },
    {
     "name": "stdout",
     "output_type": "stream",
     "text": [
      "  - duration 1.42\n",
      "flow for target entity Professional_ProToProFunction..\n",
      "- EXEC dbo.PullData_Professional_ProToProFunction2_prc...\n",
      "  - duration 47.52\n",
      "rows 17431418, stage table size: 1109.140625\n",
      "- EXEC dbo.MergeData_Professional_ProToProFunction2_prc...\n",
      "  - duration 01:37\n",
      "- EXEC dbo.MergeDataDirect_Professional_ProToProFunction2_prc...\n"
     ]
    },
    {
     "name": "stderr",
     "output_type": "stream",
     "text": [
      "100%|██████████| 6/6 [38:13<00:00, 382.31s/it]"
     ]
    },
    {
     "name": "stdout",
     "output_type": "stream",
     "text": [
      "  - duration 02:15\n"
     ]
    },
    {
     "name": "stderr",
     "output_type": "stream",
     "text": [
      "\n"
     ]
    },
    {
     "ename": "KeyboardInterrupt",
     "evalue": "",
     "output_type": "error",
     "traceback": [
      "\u001b[1;31m---------------------------------------------------------------------------\u001b[0m",
      "\u001b[1;31mKeyboardInterrupt\u001b[0m                         Traceback (most recent call last)",
      "Cell \u001b[1;32mIn[3], line 11\u001b[0m\n\u001b[0;32m      1\u001b[0m entity_names \u001b[38;5;241m=\u001b[39m[\n\u001b[0;32m      2\u001b[0m \u001b[38;5;124m\"\u001b[39m\u001b[38;5;124mProfessional_Compensation\u001b[39m\u001b[38;5;124m\"\u001b[39m,\n\u001b[0;32m      3\u001b[0m \u001b[38;5;124m\"\u001b[39m\u001b[38;5;124mProfessional_Person\u001b[39m\u001b[38;5;124m\"\u001b[39m,\n\u001b[1;32m   (...)\u001b[0m\n\u001b[0;32m      7\u001b[0m \u001b[38;5;124m\"\u001b[39m\u001b[38;5;124mProfessional_ProToProFunction\u001b[39m\u001b[38;5;124m\"\u001b[39m,\n\u001b[0;32m      8\u001b[0m ]\n\u001b[0;32m     10\u001b[0m durations \u001b[38;5;241m=\u001b[39m []\n\u001b[1;32m---> 11\u001b[0m \u001b[38;5;28;43;01mwith\u001b[39;49;00m\u001b[43m \u001b[49m\u001b[43mSQL_Communicator\u001b[49m\u001b[43m(\u001b[49m\u001b[43m)\u001b[49m\u001b[43m \u001b[49m\u001b[38;5;28;43;01mas\u001b[39;49;00m\u001b[43m \u001b[49m\u001b[43msc\u001b[49m\u001b[43m:\u001b[49m\n\u001b[0;32m     12\u001b[0m \u001b[43m    \u001b[49m\u001b[38;5;28;43;01mfor\u001b[39;49;00m\u001b[43m \u001b[49m\u001b[43men\u001b[49m\u001b[43m \u001b[49m\u001b[38;5;129;43;01min\u001b[39;49;00m\u001b[43m \u001b[49m\u001b[43mtqdm\u001b[49m\u001b[43m(\u001b[49m\u001b[43mentity_names\u001b[49m\u001b[43m)\u001b[49m\u001b[43m:\u001b[49m\n\u001b[0;32m     13\u001b[0m \u001b[43m        \u001b[49m\u001b[38;5;28;43mprint\u001b[39;49m\u001b[43m(\u001b[49m\u001b[38;5;124;43mf\u001b[39;49m\u001b[38;5;124;43m'\u001b[39;49m\u001b[38;5;124;43mflow for target entity \u001b[39;49m\u001b[38;5;132;43;01m{\u001b[39;49;00m\u001b[43men\u001b[49m\u001b[38;5;132;43;01m}\u001b[39;49;00m\u001b[38;5;124;43m..\u001b[39;49m\u001b[38;5;124;43m'\u001b[39;49m\u001b[43m)\u001b[49m\n",
      "File \u001b[1;32md:\\Code\\python_utils\\sql\\sql_requests.py:59\u001b[0m, in \u001b[0;36mSQL_Communicator.__exit__\u001b[1;34m(self, exc_type, exc_value, exc_tb)\u001b[0m\n\u001b[0;32m     58\u001b[0m \u001b[38;5;28;01mdef\u001b[39;00m \u001b[38;5;21m__exit__\u001b[39m(\u001b[38;5;28mself\u001b[39m, exc_type, exc_value, exc_tb):\n\u001b[1;32m---> 59\u001b[0m     \u001b[38;5;28;43mself\u001b[39;49m\u001b[38;5;241;43m.\u001b[39;49m\u001b[43mconnection\u001b[49m\u001b[38;5;241;43m.\u001b[39;49m\u001b[43mclose\u001b[49m\u001b[43m(\u001b[49m\u001b[43m)\u001b[49m\n",
      "\u001b[1;31mKeyboardInterrupt\u001b[0m: "
     ]
    }
   ],
   "source": [
    "entity_names =[\n",
    "\"Professional_Compensation\",\n",
    "\"Professional_Person\",\n",
    "\"Professional_BiographyPerson\",\n",
    "\"Professional_Professional\",\n",
    "\"Professional_ProfessionalCoverage\",\n",
    "\"Professional_ProToProFunction\",\n",
    "]\n",
    "\n",
    "durations = []\n",
    "with SQL_Communicator() as sc:\n",
    "    for en in tqdm(entity_names):\n",
    "        print(f'flow for target entity {en}..')\n",
    "        en2 = nc.default_rename(en)\n",
    "        sp_names = [nc.pull_sp_name(en2), nc.merge_sp_name(en2), nc.merge_direct_sp_name(en2)]\n",
    "        stage_tbl = nc.stg_table_name(en)\n",
    "        trg_tbl = nc.table_name(nc.default_rename(en))\n",
    "        ent_durs, flow_td = [en2], timedelta()  \n",
    "        for i, sp_name in enumerate(sp_names):\n",
    "            exec_stm = f\"EXEC {sp_name}\"\n",
    "            print(f'- {exec_stm}...')\n",
    "            try:\n",
    "                td = sc.get_execution_metrics(exec_stm)\n",
    "                ent_durs.append(format_time_delta(td))\n",
    "                if i < 2:\n",
    "                    flow_td +=td\n",
    "                if  i == 1:\n",
    "                    ent_durs.append(format_time_delta(flow_td))\n",
    "                print(f'  - duration {format_time_delta(td)}')\n",
    "                if i == 0:  ## pull sp\n",
    "                    rows_count, table_size = sc.get_table_size(stage_tbl)\n",
    "                    print(f'rows {rows_count}, stage table size: {table_size}')\n",
    "                sc.get_execution_metrics(f'TRUNCATE table {trg_tbl}')\n",
    "            except Exception as ex:\n",
    "                print(f'shit happened {ex}')\n",
    "        rows_count = rows_count /1000\n",
    "        velocity = table_size / Decimal(flow_td.total_seconds()) if flow_td.total_seconds() else 0 \n",
    "        ent_durs.extend([f'{rows_count:7.2f}' , f'{table_size:7.2f}', f'{velocity:7.2f}'])\n",
    "        durations.append(ent_durs)\n",
    "        # ent_durs.append(sum(ent_durs))\n"
   ]
  },
  {
   "cell_type": "code",
   "execution_count": 4,
   "id": "9e97f970",
   "metadata": {},
   "outputs": [
    {
     "data": {
      "text/html": [
       "<div>\n",
       "<style scoped>\n",
       "    .dataframe tbody tr th:only-of-type {\n",
       "        vertical-align: middle;\n",
       "    }\n",
       "\n",
       "    .dataframe tbody tr th {\n",
       "        vertical-align: top;\n",
       "    }\n",
       "\n",
       "    .dataframe thead th {\n",
       "        text-align: right;\n",
       "    }\n",
       "</style>\n",
       "<table border=\"1\" class=\"dataframe\">\n",
       "  <thead>\n",
       "    <tr style=\"text-align: right;\">\n",
       "      <th></th>\n",
       "      <th>Entity name</th>\n",
       "      <th>Pull SP</th>\n",
       "      <th>Merge SP</th>\n",
       "      <th>sum</th>\n",
       "      <th>Merge Direct</th>\n",
       "      <th>rows_count, K</th>\n",
       "      <th>table_size, MB</th>\n",
       "      <th>velocity, MB/sec</th>\n",
       "    </tr>\n",
       "  </thead>\n",
       "  <tbody>\n",
       "    <tr>\n",
       "      <th>0</th>\n",
       "      <td>Professional_Compensation2</td>\n",
       "      <td>02:44</td>\n",
       "      <td>05:52</td>\n",
       "      <td>08:37</td>\n",
       "      <td>04:15</td>\n",
       "      <td>48222.28</td>\n",
       "      <td>3795.20</td>\n",
       "      <td>7.34</td>\n",
       "    </tr>\n",
       "    <tr>\n",
       "      <th>1</th>\n",
       "      <td>Professional_Person2</td>\n",
       "      <td>40.43</td>\n",
       "      <td>48.71</td>\n",
       "      <td>01:29</td>\n",
       "      <td>01:04</td>\n",
       "      <td>5959.98</td>\n",
       "      <td>361.02</td>\n",
       "      <td>4.05</td>\n",
       "    </tr>\n",
       "    <tr>\n",
       "      <th>2</th>\n",
       "      <td>Professional_BiographyPerson2</td>\n",
       "      <td>01:23</td>\n",
       "      <td>36.29</td>\n",
       "      <td>01:59</td>\n",
       "      <td>02:15</td>\n",
       "      <td>5367.68</td>\n",
       "      <td>3037.58</td>\n",
       "      <td>25.45</td>\n",
       "    </tr>\n",
       "    <tr>\n",
       "      <th>3</th>\n",
       "      <td>Professional_Professional2</td>\n",
       "      <td>03:50</td>\n",
       "      <td>04:45</td>\n",
       "      <td>08:35</td>\n",
       "      <td>05:12</td>\n",
       "      <td>10688.11</td>\n",
       "      <td>1825.59</td>\n",
       "      <td>3.54</td>\n",
       "    </tr>\n",
       "    <tr>\n",
       "      <th>4</th>\n",
       "      <td>Professional_ProfessionalCoverage2</td>\n",
       "      <td>0.92</td>\n",
       "      <td>1.13</td>\n",
       "      <td>2.05</td>\n",
       "      <td>1.42</td>\n",
       "      <td>215.35</td>\n",
       "      <td>7.58</td>\n",
       "      <td>3.70</td>\n",
       "    </tr>\n",
       "    <tr>\n",
       "      <th>5</th>\n",
       "      <td>Professional_ProToProFunction2</td>\n",
       "      <td>47.52</td>\n",
       "      <td>01:37</td>\n",
       "      <td>02:24</td>\n",
       "      <td>02:15</td>\n",
       "      <td>17431.42</td>\n",
       "      <td>1109.14</td>\n",
       "      <td>7.66</td>\n",
       "    </tr>\n",
       "  </tbody>\n",
       "</table>\n",
       "</div>"
      ],
      "text/plain": [
       "                          Entity name Pull SP Merge SP    sum Merge Direct  \\\n",
       "0          Professional_Compensation2   02:44    05:52  08:37        04:15   \n",
       "1                Professional_Person2   40.43    48.71  01:29        01:04   \n",
       "2       Professional_BiographyPerson2   01:23    36.29  01:59        02:15   \n",
       "3          Professional_Professional2   03:50    04:45  08:35        05:12   \n",
       "4  Professional_ProfessionalCoverage2    0.92     1.13   2.05         1.42   \n",
       "5      Professional_ProToProFunction2   47.52    01:37  02:24        02:15   \n",
       "\n",
       "  rows_count, K table_size, MB velocity, MB/sec  \n",
       "0      48222.28        3795.20             7.34  \n",
       "1       5959.98         361.02             4.05  \n",
       "2       5367.68        3037.58            25.45  \n",
       "3      10688.11        1825.59             3.54  \n",
       "4        215.35           7.58             3.70  \n",
       "5      17431.42        1109.14             7.66  "
      ]
     },
     "execution_count": 4,
     "metadata": {},
     "output_type": "execute_result"
    }
   ],
   "source": [
    "columns = ['Entity name', 'Pull SP', 'Merge SP', 'sum', 'Merge Direct',  'rows_count, K', 'table_size, MB', 'velocity, MB/sec']\n",
    "df = pd.DataFrame(durations, columns = columns)\n",
    "# df['table_size, MB'] = df ['table_size, MB'].astype('int')\n",
    "# df['rows_count, K'] = df['rows_count, K']/1000\n",
    "df"
   ]
  }
 ],
 "metadata": {
  "kernelspec": {
   "display_name": "Python 3 (ipykernel)",
   "language": "python",
   "name": "python3"
  },
  "language_info": {
   "codemirror_mode": {
    "name": "ipython",
    "version": 3
   },
   "file_extension": ".py",
   "mimetype": "text/x-python",
   "name": "python",
   "nbconvert_exporter": "python",
   "pygments_lexer": "ipython3",
   "version": "3.12.3"
  }
 },
 "nbformat": 4,
 "nbformat_minor": 5
}
