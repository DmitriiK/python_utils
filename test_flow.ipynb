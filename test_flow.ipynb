{
 "cells": [
  {
   "cell_type": "markdown",
   "id": "2e621466",
   "metadata": {},
   "source": [
    "### launching of SPs\n",
    "\n"
   ]
  },
  {
   "cell_type": "code",
   "execution_count": 7,
   "id": "09124eba",
   "metadata": {},
   "outputs": [
    {
     "name": "stdout",
     "output_type": "stream",
     "text": [
      "connecting...\n",
      "Connection successful!\n"
     ]
    }
   ],
   "source": [
    "import pyodbc\n",
    "from sql.config import SQL_SERVER, DB_NAME\n",
    "import sql.naming_convention as nc\n",
    "\n",
    "conn_str = (\n",
    "            f'DRIVER={{ODBC Driver 17 for SQL Server}};'\n",
    "            f'SERVER={SQL_SERVER};'\n",
    "            f'DATABASE={DB_NAME};'\n",
    "            f'Trusted_Connection=yes;'\n",
    "            f'Encrypt=yes;'\n",
    "            f'TrustServerCertificate=yes;'\n",
    "        )\n",
    "\n",
    "print('connecting...')\n",
    "sql_connection = pyodbc.connect(conn_str, timeout=60)\n",
    "print(\"Connection successful!\")"
   ]
  },
  {
   "cell_type": "code",
   "execution_count": 8,
   "id": "7d2590ed",
   "metadata": {},
   "outputs": [
    {
     "name": "stdout",
     "output_type": "stream",
     "text": [
      "trying to run : EXEC dbo.PullData_Symbol_IBESTickerEnhanced2_prc\n"
     ]
    }
   ],
   "source": [
    "entity_name = 'Symbol_IBESTickerEnhanced'\n",
    "sp_name = nc.pull_sp_name(nc.default_rename(entity_name))\n",
    "exec_stm = f\"EXEC {sp_name}\"\n",
    "cursor = sql_connection.cursor()\n",
    "print(f'trying to run : {exec_stm}')\n",
    "cursor.execute(exec_stm)\n"
   ]
  },
  {
   "cell_type": "code",
   "execution_count": null,
   "id": "9e97f970",
   "metadata": {},
   "outputs": [],
   "source": []
  }
 ],
 "metadata": {
  "kernelspec": {
   "display_name": "Python 3 (ipykernel)",
   "language": "python",
   "name": "python3"
  },
  "language_info": {
   "codemirror_mode": {
    "name": "ipython",
    "version": 3
   },
   "file_extension": ".py",
   "mimetype": "text/x-python",
   "name": "python",
   "nbconvert_exporter": "python",
   "pygments_lexer": "ipython3",
   "version": "3.12.3"
  }
 },
 "nbformat": 4,
 "nbformat_minor": 5
}
