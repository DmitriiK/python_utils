{
 "cells": [
  {
   "cell_type": "markdown",
   "id": "2e621466",
   "metadata": {},
   "source": [
    "### launching of SPs\n",
    "\n"
   ]
  },
  {
   "cell_type": "code",
   "execution_count": 2,
   "id": "09124eba",
   "metadata": {},
   "outputs": [],
   "source": [
    "from datetime import timedelta\n",
    "from tqdm import tqdm\n",
    "import pandas as pd\n",
    "\n",
    "import pyodbc\n",
    "from sql.config import SQL_SERVER, DB_NAME\n",
    "import sql.naming_convention as nc\n",
    "from sql.sql_requests import SQL_Communicator"
   ]
  },
  {
   "cell_type": "code",
   "execution_count": 3,
   "id": "e3f4aaec",
   "metadata": {},
   "outputs": [],
   "source": [
    "def format_time_delta(duration: timedelta):\n",
    "    # Get the total seconds\n",
    "    total_seconds = duration.total_seconds()\n",
    "    # days = duration.days\n",
    "    hours = duration.seconds // 3600  # Convert seconds to hours\n",
    "    minutes = (duration.seconds // 60) % 60  # Convert remaining seconds to minutes\n",
    "    seconds = duration.seconds % 60\n",
    "    if hours > 0:\n",
    "        return f'{hours:02d}:{minutes:02d}:{int(seconds):02d}'\n",
    "    if minutes > 0:\n",
    "        return f'{minutes:02d}:{int(seconds):02d}'\n",
    "    return f'{total_seconds:4.2f}'"
   ]
  },
  {
   "cell_type": "code",
   "execution_count": 4,
   "id": "7d2590ed",
   "metadata": {},
   "outputs": [
    {
     "name": "stdout",
     "output_type": "stream",
     "text": [
      "connecting...\n",
      "Connection successful!\n"
     ]
    },
    {
     "name": "stderr",
     "output_type": "stream",
     "text": [
      "  0%|          | 0/22 [00:00<?, ?it/s]"
     ]
    },
    {
     "name": "stdout",
     "output_type": "stream",
     "text": [
      "flow for target entity AddtlCompany_Address..\n",
      "- EXEC dbo.PullData_AddtlCompany_Address2_prc...\n",
      "duration 01:11\n",
      "- EXEC dbo.MergeData_AddtlCompany_Address2_prc...\n"
     ]
    }
   ],
   "source": [
    "entity_names =[\n",
    "    \"AddtlCompany_Address\",\n",
    "    \"AddtlCompany_BusinessDescription\",\n",
    "    \"AddtlCompany_LongBusinessDescription\",\n",
    "    \"CompanyBiteSize_CompanyBiteSize\",\n",
    "    \"CompanyGeosOfInt_CompanyGeosOfInterest\",\n",
    "    \"CompanyIndOfInt_CompanyIndustriesOfInterest\",\n",
    "    \"CompanyStagesOfInt_CompanyStagesOfInterest\",\n",
    "    \"GICS_GICS\",\n",
    "    \"KeyDev_FutureEvent\",\n",
    "    \"KeyDev_FutureEventToObjectToEventType\",\n",
    "    \"KeyDev_KeyDev\",\n",
    "    \"KeyDev_KeyDevToObjectToEventType\",\n",
    "    \"Professional_PersonProfessionalCompensation\",\n",
    "    \"Professional_PersonProfessional\",\n",
    "\n",
    "    \"Symbol_DandBSymbol\",\n",
    "    \"FutureEventMkt_FutureEventMkt\",\n",
    "    \"FutureEventMkt_FutureEventMktSplitInfo\",\n",
    "    \"FutureEventMkt_FutureEventMktToObjectToEventType\",\n",
    "\n",
    "    \"KeyDevPlus_KeyDev\",\n",
    "    \"KeyDevPlus_KeyDevToObjectToEventType\",\n",
    "    \"CompDetail_CompensationAdjustment\",\n",
    "    \"CompDetail_CompensationDetail\"\n",
    "]\n",
    "\n",
    "durations = []\n",
    "with SQL_Communicator() as sc:\n",
    "    for en in tqdm(entity_names):\n",
    "        print(f'flow for target entity {en}..')\n",
    "        en2 = nc.default_rename(en)\n",
    "        sp_names = [nc.pull_sp_name(en2), nc.merge_sp_name(en2)]\n",
    "        ent_durs, flow_td = [en2], timedelta()  \n",
    "        for sp_name in sp_names:\n",
    "            exec_stm = f\"EXEC {sp_name}\"\n",
    "            print(f'- {exec_stm}...')\n",
    "            try:\n",
    "                td = sc.get_execution_metrics(exec_stm)\n",
    "                ent_durs.append(format_time_delta(td))\n",
    "                flow_td += td\n",
    "                print(f'  - duration {format_time_delta(td)}')\n",
    "            except ex:\n",
    "                print(f'execution failed {ex}')\n",
    "        ent_durs.append(format_time_delta(flow_td))\n",
    "        durations.append(ent_durs)\n",
    "        # ent_durs.append(sum(ent_durs))\n",
    "columns = ['Entity name', 'Pull SP', 'Merge SP',  'sum']\n",
    "df = pd.DataFrame(durations, columns = columns)\n"
   ]
  },
  {
   "cell_type": "code",
   "execution_count": 8,
   "id": "9e97f970",
   "metadata": {},
   "outputs": [
    {
     "data": {
      "text/html": [
       "<div>\n",
       "<style scoped>\n",
       "    .dataframe tbody tr th:only-of-type {\n",
       "        vertical-align: middle;\n",
       "    }\n",
       "\n",
       "    .dataframe tbody tr th {\n",
       "        vertical-align: top;\n",
       "    }\n",
       "\n",
       "    .dataframe thead th {\n",
       "        text-align: right;\n",
       "    }\n",
       "</style>\n",
       "<table border=\"1\" class=\"dataframe\">\n",
       "  <thead>\n",
       "    <tr style=\"text-align: right;\">\n",
       "      <th></th>\n",
       "      <th>Entity name</th>\n",
       "      <th>Pull SP</th>\n",
       "      <th>Merge SP</th>\n",
       "      <th>sum</th>\n",
       "    </tr>\n",
       "  </thead>\n",
       "  <tbody>\n",
       "    <tr>\n",
       "      <th>0</th>\n",
       "      <td>GICS_GICS2</td>\n",
       "      <td>1.45</td>\n",
       "      <td>0.27</td>\n",
       "      <td>1.71</td>\n",
       "    </tr>\n",
       "    <tr>\n",
       "      <th>1</th>\n",
       "      <td>Symbol_GVKeySymbol2</td>\n",
       "      <td>1.49</td>\n",
       "      <td>1.39</td>\n",
       "      <td>2.88</td>\n",
       "    </tr>\n",
       "    <tr>\n",
       "      <th>2</th>\n",
       "      <td>Symbol_GVKeyEnhanced2</td>\n",
       "      <td>1.45</td>\n",
       "      <td>1.83</td>\n",
       "      <td>3.28</td>\n",
       "    </tr>\n",
       "    <tr>\n",
       "      <th>3</th>\n",
       "      <td>Symbol_DandBSymbol2</td>\n",
       "      <td>37.63</td>\n",
       "      <td>41.30</td>\n",
       "      <td>01:18</td>\n",
       "    </tr>\n",
       "    <tr>\n",
       "      <th>4</th>\n",
       "      <td>KeyDev_FutureEvent2</td>\n",
       "      <td>02:39</td>\n",
       "      <td>46.46</td>\n",
       "      <td>03:26</td>\n",
       "    </tr>\n",
       "    <tr>\n",
       "      <th>5</th>\n",
       "      <td>KeyDev_FutureEventToObjectToEventType2</td>\n",
       "      <td>28.35</td>\n",
       "      <td>33.26</td>\n",
       "      <td>01:01</td>\n",
       "    </tr>\n",
       "    <tr>\n",
       "      <th>6</th>\n",
       "      <td>FutureEventMkt_FutureEventMkt2</td>\n",
       "      <td>02:33</td>\n",
       "      <td>01:12</td>\n",
       "      <td>03:45</td>\n",
       "    </tr>\n",
       "    <tr>\n",
       "      <th>7</th>\n",
       "      <td>FutureEventMkt_FutureEventMktSplitInfo2</td>\n",
       "      <td>16.89</td>\n",
       "      <td>18.58</td>\n",
       "      <td>35.47</td>\n",
       "    </tr>\n",
       "    <tr>\n",
       "      <th>8</th>\n",
       "      <td>FutureEventMkt_FutureEventMktToObjectToEventType2</td>\n",
       "      <td>42.73</td>\n",
       "      <td>50.40</td>\n",
       "      <td>01:33</td>\n",
       "    </tr>\n",
       "  </tbody>\n",
       "</table>\n",
       "</div>"
      ],
      "text/plain": [
       "                                         Entity name Pull SP Merge SP    sum\n",
       "0                                         GICS_GICS2    1.45     0.27   1.71\n",
       "1                                Symbol_GVKeySymbol2    1.49     1.39   2.88\n",
       "2                              Symbol_GVKeyEnhanced2    1.45     1.83   3.28\n",
       "3                                Symbol_DandBSymbol2   37.63    41.30  01:18\n",
       "4                                KeyDev_FutureEvent2   02:39    46.46  03:26\n",
       "5             KeyDev_FutureEventToObjectToEventType2   28.35    33.26  01:01\n",
       "6                     FutureEventMkt_FutureEventMkt2   02:33    01:12  03:45\n",
       "7            FutureEventMkt_FutureEventMktSplitInfo2   16.89    18.58  35.47\n",
       "8  FutureEventMkt_FutureEventMktToObjectToEventType2   42.73    50.40  01:33"
      ]
     },
     "execution_count": 8,
     "metadata": {},
     "output_type": "execute_result"
    }
   ],
   "source": [
    "df"
   ]
  }
 ],
 "metadata": {
  "kernelspec": {
   "display_name": "Python 3 (ipykernel)",
   "language": "python",
   "name": "python3"
  },
  "language_info": {
   "codemirror_mode": {
    "name": "ipython",
    "version": 3
   },
   "file_extension": ".py",
   "mimetype": "text/x-python",
   "name": "python",
   "nbconvert_exporter": "python",
   "pygments_lexer": "ipython3",
   "version": "3.12.3"
  }
 },
 "nbformat": 4,
 "nbformat_minor": 5
}
