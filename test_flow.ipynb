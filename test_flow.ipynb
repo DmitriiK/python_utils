{
 "cells": [
  {
   "cell_type": "markdown",
   "id": "2e621466",
   "metadata": {},
   "source": [
    "### launching of SPs\n",
    "\n"
   ]
  },
  {
   "cell_type": "code",
   "execution_count": 3,
   "id": "09124eba",
   "metadata": {},
   "outputs": [],
   "source": [
    "from datetime import timedelta\n",
    "from decimal import Decimal\n",
    "from tqdm import tqdm\n",
    "import pandas as pd\n",
    "\n",
    "import pyodbc\n",
    "from sql.config import SQL_SERVER, DB_NAME\n",
    "import sql.naming_convention as nc\n",
    "from sql.sql_requests import SQL_Communicator"
   ]
  },
  {
   "cell_type": "code",
   "execution_count": 4,
   "id": "e3f4aaec",
   "metadata": {},
   "outputs": [],
   "source": [
    "def format_time_delta(duration: timedelta):\n",
    "    # Get the total seconds\n",
    "    total_seconds = duration.total_seconds()\n",
    "    # days = duration.days\n",
    "    hours = duration.seconds // 3600  # Convert seconds to hours\n",
    "    minutes = (duration.seconds // 60) % 60  # Convert remaining seconds to minutes\n",
    "    seconds = duration.seconds % 60\n",
    "    if hours > 0:\n",
    "        return f'{hours:02d}:{minutes:02d}:{int(seconds):02d}'\n",
    "    if minutes > 0:\n",
    "        return f'{minutes:02d}:{int(seconds):02d}'\n",
    "    return f'{total_seconds:4.2f}'"
   ]
  },
  {
   "cell_type": "code",
   "execution_count": 5,
   "id": "7d2590ed",
   "metadata": {},
   "outputs": [
    {
     "name": "stdout",
     "output_type": "stream",
     "text": [
      "connecting...\n",
      "Connection successful!\n"
     ]
    },
    {
     "name": "stderr",
     "output_type": "stream",
     "text": [
      "  0%|          | 0/22 [00:00<?, ?it/s]"
     ]
    },
    {
     "name": "stdout",
     "output_type": "stream",
     "text": [
      "flow for target entity AddtlCompany_Address..\n",
      "- EXEC dbo.PullData_AddtlCompany_Address2_prc...\n",
      "  - duration 01:10\n",
      "rows 18858666, stage table size: 1319.015625\n",
      "- EXEC dbo.MergeData_AddtlCompany_Address2_prc...\n"
     ]
    },
    {
     "name": "stderr",
     "output_type": "stream",
     "text": [
      "  5%|▍         | 1/22 [03:26<1:12:14, 206.42s/it]"
     ]
    },
    {
     "name": "stdout",
     "output_type": "stream",
     "text": [
      "  - duration 02:15\n",
      "flow for target entity AddtlCompany_BusinessDescription..\n",
      "- EXEC dbo.PullData_AddtlCompany_BusinessDescription2_prc...\n",
      "  - duration 01:04\n",
      "rows 6774311, stage table size: 1747.703125\n",
      "- EXEC dbo.MergeData_AddtlCompany_BusinessDescription2_prc...\n"
     ]
    },
    {
     "name": "stderr",
     "output_type": "stream",
     "text": [
      "  9%|▉         | 2/22 [05:06<47:56, 143.82s/it]  "
     ]
    },
    {
     "name": "stdout",
     "output_type": "stream",
     "text": [
      "  - duration 35.54\n",
      "flow for target entity AddtlCompany_LongBusinessDescription..\n",
      "- EXEC dbo.PullData_AddtlCompany_LongBusinessDescription2_prc...\n",
      "  - duration 2.18\n",
      "rows 77450, stage table size: 230.593750\n",
      "- EXEC dbo.MergeData_AddtlCompany_LongBusinessDescription2_prc...\n"
     ]
    },
    {
     "name": "stderr",
     "output_type": "stream",
     "text": [
      " 14%|█▎        | 3/22 [05:10<25:18, 79.92s/it] "
     ]
    },
    {
     "name": "stdout",
     "output_type": "stream",
     "text": [
      "  - duration 1.63\n",
      "flow for target entity CompanyBiteSize_CompanyBiteSize..\n",
      "- EXEC dbo.PullData_CompanyBiteSize_CompanyBiteSize2_prc...\n",
      "  - duration 9.46\n",
      "rows 39625, stage table size: 2.203125\n",
      "- EXEC dbo.MergeData_CompanyBiteSize_CompanyBiteSize2_prc...\n"
     ]
    },
    {
     "name": "stderr",
     "output_type": "stream",
     "text": [
      " 18%|█▊        | 4/22 [05:20<15:41, 52.32s/it]"
     ]
    },
    {
     "name": "stdout",
     "output_type": "stream",
     "text": [
      "  - duration 0.48\n",
      "flow for target entity CompanyGeosOfInt_CompanyGeosOfInterest..\n",
      "- EXEC dbo.PullData_CompanyGeosOfInt_CompanyGeosOfInterest2_prc...\n",
      "  - duration 31.59\n",
      "rows 374445, stage table size: 15.140625\n",
      "- EXEC dbo.MergeData_CompanyGeosOfInt_CompanyGeosOfInterest2_prc...\n"
     ]
    },
    {
     "name": "stderr",
     "output_type": "stream",
     "text": [
      " 23%|██▎       | 5/22 [05:56<13:07, 46.34s/it]"
     ]
    },
    {
     "name": "stdout",
     "output_type": "stream",
     "text": [
      "  - duration 4.08\n",
      "flow for target entity CompanyIndOfInt_CompanyIndustriesOfInterest..\n",
      "- EXEC dbo.PullData_CompanyIndOfInt_CompanyIndustriesOfInterest2_prc...\n",
      "  - duration 5.20\n",
      "rows 840892, stage table size: 33.703125\n",
      "- EXEC dbo.MergeData_CompanyIndOfInt_CompanyIndustriesOfInterest2_prc...\n"
     ]
    },
    {
     "name": "stderr",
     "output_type": "stream",
     "text": [
      " 27%|██▋       | 6/22 [06:06<09:04, 34.01s/it]"
     ]
    },
    {
     "name": "stdout",
     "output_type": "stream",
     "text": [
      "  - duration 4.81\n",
      "flow for target entity CompanyStagesOfInt_CompanyStagesOfInterest..\n",
      "- EXEC dbo.PullData_CompanyStagesOfInt_CompanyStagesOfInterest2_prc...\n",
      "  - duration 7.11\n",
      "rows 163283, stage table size: 6.765625\n",
      "- EXEC dbo.MergeData_CompanyStagesOfInt_CompanyStagesOfInterest2_prc...\n"
     ]
    },
    {
     "name": "stderr",
     "output_type": "stream",
     "text": [
      " 32%|███▏      | 7/22 [06:14<06:25, 25.67s/it]"
     ]
    },
    {
     "name": "stdout",
     "output_type": "stream",
     "text": [
      "  - duration 1.31\n",
      "flow for target entity GICS_GICS..\n",
      "- EXEC dbo.PullData_GICS_GICS2_prc...\n",
      "  - duration 1.43\n",
      "rows 49569, stage table size: 2.453125\n",
      "- EXEC dbo.MergeData_GICS_GICS2_prc...\n"
     ]
    },
    {
     "name": "stderr",
     "output_type": "stream",
     "text": [
      " 36%|███▋      | 8/22 [06:16<04:12, 18.04s/it]"
     ]
    },
    {
     "name": "stdout",
     "output_type": "stream",
     "text": [
      "  - duration 0.26\n",
      "flow for target entity KeyDev_FutureEvent..\n",
      "- EXEC dbo.PullData_KeyDev_FutureEvent2_prc...\n",
      "  - duration 01:49\n",
      "rows 11343570, stage table size: 1911.343750\n",
      "- EXEC dbo.MergeData_KeyDev_FutureEvent2_prc...\n"
     ]
    },
    {
     "name": "stderr",
     "output_type": "stream",
     "text": [
      " 41%|████      | 9/22 [08:49<13:05, 60.43s/it]"
     ]
    },
    {
     "name": "stdout",
     "output_type": "stream",
     "text": [
      "  - duration 44.57\n",
      "flow for target entity KeyDev_FutureEventToObjectToEventType..\n",
      "- EXEC dbo.PullData_KeyDev_FutureEventToObjectToEventType2_prc...\n",
      "  - duration 28.58\n",
      "rows 7419249, stage table size: 273.414062\n",
      "- EXEC dbo.MergeData_KeyDev_FutureEventToObjectToEventType2_prc...\n"
     ]
    },
    {
     "name": "stderr",
     "output_type": "stream",
     "text": [
      " 45%|████▌     | 10/22 [09:50<12:06, 60.54s/it]"
     ]
    },
    {
     "name": "stdout",
     "output_type": "stream",
     "text": [
      "  - duration 32.14\n",
      "flow for target entity KeyDev_KeyDev..\n",
      "- EXEC dbo.PullData_KeyDev_KeyDev2_prc...\n",
      "  - duration 04:52\n",
      "rows 56709636, stage table size: 11117.898437\n",
      "- EXEC dbo.MergeData_KeyDev_KeyDev2_prc...\n"
     ]
    },
    {
     "name": "stderr",
     "output_type": "stream",
     "text": [
      " 50%|█████     | 11/22 [18:09<35:42, 194.76s/it]"
     ]
    },
    {
     "name": "stdout",
     "output_type": "stream",
     "text": [
      "  - duration 03:26\n",
      "flow for target entity KeyDev_KeyDevToObjectToEventType..\n",
      "- EXEC dbo.PullData_KeyDev_KeyDevToObjectToEventType2_prc...\n",
      "  - duration 02:10\n",
      "rows 21176825, stage table size: 799.078125\n",
      "- EXEC dbo.MergeData_KeyDev_KeyDevToObjectToEventType2_prc...\n"
     ]
    },
    {
     "name": "stderr",
     "output_type": "stream",
     "text": [
      " 55%|█████▍    | 12/22 [22:13<34:57, 209.73s/it]"
     ]
    },
    {
     "name": "stdout",
     "output_type": "stream",
     "text": [
      "  - duration 01:53\n",
      "flow for target entity Professional_PersonProfessionalCompensation..\n",
      "- EXEC dbo.PullData_Professional_PersonProfessionalCompensation2_prc...\n",
      "  - duration 02:00\n",
      "rows 14800305, stage table size: 1055.335937\n",
      "- EXEC dbo.MergeData_Professional_PersonProfessionalCompensation2_prc...\n"
     ]
    },
    {
     "name": "stderr",
     "output_type": "stream",
     "text": [
      " 59%|█████▉    | 13/22 [26:24<33:20, 222.26s/it]"
     ]
    },
    {
     "name": "stdout",
     "output_type": "stream",
     "text": [
      "  - duration 02:10\n",
      "flow for target entity Professional_PersonProfessional..\n",
      "- EXEC dbo.PullData_Professional_PersonProfessional2_prc...\n",
      "  - duration 01:01\n",
      "rows 3613788, stage table size: 458.578125\n",
      "- EXEC dbo.MergeData_Professional_PersonProfessional2_prc...\n"
     ]
    },
    {
     "name": "stderr",
     "output_type": "stream",
     "text": [
      " 64%|██████▎   | 14/22 [27:57<24:25, 183.24s/it]"
     ]
    },
    {
     "name": "stdout",
     "output_type": "stream",
     "text": [
      "  - duration 31.85\n",
      "flow for target entity Symbol_DandBSymbol..\n",
      "- EXEC dbo.PullData_Symbol_DandBSymbol2_prc...\n",
      "  - duration 38.66\n",
      "rows 5226818, stage table size: 275.328125\n",
      "- EXEC dbo.MergeData_Symbol_DandBSymbol2_prc...\n"
     ]
    },
    {
     "name": "stderr",
     "output_type": "stream",
     "text": [
      " 68%|██████▊   | 15/22 [29:17<17:43, 151.88s/it]"
     ]
    },
    {
     "name": "stdout",
     "output_type": "stream",
     "text": [
      "  - duration 40.48\n",
      "flow for target entity FutureEventMkt_FutureEventMkt..\n",
      "- EXEC dbo.PullData_FutureEventMkt_FutureEventMkt2_prc...\n",
      "  - duration 02:30\n",
      "rows 19264586, stage table size: 2769.867187\n",
      "- EXEC dbo.MergeData_FutureEventMkt_FutureEventMkt2_prc...\n"
     ]
    },
    {
     "name": "stderr",
     "output_type": "stream",
     "text": [
      " 73%|███████▎  | 16/22 [33:03<17:26, 174.40s/it]"
     ]
    },
    {
     "name": "stdout",
     "output_type": "stream",
     "text": [
      "  - duration 01:15\n",
      "flow for target entity FutureEventMkt_FutureEventMktSplitInfo..\n",
      "- EXEC dbo.PullData_FutureEventMkt_FutureEventMktSplitInfo2_prc...\n",
      "  - duration 16.20\n",
      "rows 3960371, stage table size: 232.023437\n",
      "- EXEC dbo.MergeData_FutureEventMkt_FutureEventMktSplitInfo2_prc...\n"
     ]
    },
    {
     "name": "stderr",
     "output_type": "stream",
     "text": [
      " 77%|███████▋  | 17/22 [33:38<11:01, 132.39s/it]"
     ]
    },
    {
     "name": "stdout",
     "output_type": "stream",
     "text": [
      "  - duration 18.41\n",
      "flow for target entity FutureEventMkt_FutureEventMktToObjectToEventType..\n",
      "- EXEC dbo.PullData_FutureEventMkt_FutureEventMktToObjectToEventType2_prc...\n",
      "  - duration 40.04\n",
      "rows 11379757, stage table size: 419.203125\n",
      "- EXEC dbo.MergeData_FutureEventMkt_FutureEventMktToObjectToEventType2_prc...\n"
     ]
    },
    {
     "name": "stderr",
     "output_type": "stream",
     "text": [
      " 82%|████████▏ | 18/22 [35:08<07:58, 119.52s/it]"
     ]
    },
    {
     "name": "stdout",
     "output_type": "stream",
     "text": [
      "  - duration 49.47\n",
      "flow for target entity KeyDevPlus_KeyDev..\n",
      "- EXEC dbo.PullData_KeyDevPlus_KeyDev2_prc...\n",
      "  - duration 06:29\n",
      "rows 69955530, stage table size: 14153.257812\n",
      "- EXEC dbo.MergeData_KeyDevPlus_KeyDev2_prc...\n"
     ]
    },
    {
     "name": "stderr",
     "output_type": "stream",
     "text": [
      " 86%|████████▋ | 19/22 [45:57<13:55, 278.59s/it]"
     ]
    },
    {
     "name": "stdout",
     "output_type": "stream",
     "text": [
      "  - duration 04:19\n",
      "flow for target entity KeyDevPlus_KeyDevToObjectToEventType..\n",
      "- EXEC dbo.PullData_KeyDevPlus_KeyDevToObjectToEventType2_prc...\n",
      "  - duration 01:41\n",
      "rows 21176825, stage table size: 779.898437\n",
      "- EXEC dbo.MergeData_KeyDevPlus_KeyDevToObjectToEventType2_prc...\n"
     ]
    },
    {
     "name": "stderr",
     "output_type": "stream",
     "text": [
      " 91%|█████████ | 20/22 [49:10<08:25, 252.89s/it]"
     ]
    },
    {
     "name": "stdout",
     "output_type": "stream",
     "text": [
      "  - duration 01:31\n",
      "flow for target entity CompDetail_CompensationAdjustment..\n",
      "- EXEC dbo.PullData_CompDetail_CompensationAdjustment2_prc...\n",
      "  - duration 0.15\n"
     ]
    },
    {
     "name": "stderr",
     "output_type": "stream",
     "text": [
      " 95%|█████████▌| 21/22 [49:10<02:57, 177.06s/it]"
     ]
    },
    {
     "name": "stdout",
     "output_type": "stream",
     "text": [
      "rows 152, stage table size: 0.070312\n",
      "- EXEC dbo.MergeData_CompDetail_CompensationAdjustment2_prc...\n",
      "  - duration 0.04\n",
      "flow for target entity CompDetail_CompensationDetail..\n",
      "- EXEC dbo.PullData_CompDetail_CompensationDetail2_prc...\n",
      "  - duration 01:37\n",
      "rows 23108990, stage table size: 2012.000000\n",
      "- EXEC dbo.MergeData_CompDetail_CompensationDetail2_prc...\n"
     ]
    },
    {
     "name": "stderr",
     "output_type": "stream",
     "text": [
      "100%|██████████| 22/22 [53:05<00:00, 144.78s/it]"
     ]
    },
    {
     "name": "stdout",
     "output_type": "stream",
     "text": [
      "  - duration 02:17\n"
     ]
    },
    {
     "name": "stderr",
     "output_type": "stream",
     "text": [
      "\n"
     ]
    },
    {
     "ename": "KeyboardInterrupt",
     "evalue": "",
     "output_type": "error",
     "traceback": [
      "\u001b[1;31m---------------------------------------------------------------------------\u001b[0m",
      "\u001b[1;31mKeyboardInterrupt\u001b[0m                         Traceback (most recent call last)",
      "Cell \u001b[1;32mIn[5], line 30\u001b[0m\n\u001b[0;32m      1\u001b[0m entity_names \u001b[38;5;241m=\u001b[39m[\n\u001b[0;32m      2\u001b[0m     \u001b[38;5;124m\"\u001b[39m\u001b[38;5;124mAddtlCompany_Address\u001b[39m\u001b[38;5;124m\"\u001b[39m,\n\u001b[0;32m      3\u001b[0m     \u001b[38;5;124m\"\u001b[39m\u001b[38;5;124mAddtlCompany_BusinessDescription\u001b[39m\u001b[38;5;124m\"\u001b[39m,\n\u001b[1;32m   (...)\u001b[0m\n\u001b[0;32m     25\u001b[0m     \u001b[38;5;124m\"\u001b[39m\u001b[38;5;124mCompDetail_CompensationDetail\u001b[39m\u001b[38;5;124m\"\u001b[39m\n\u001b[0;32m     26\u001b[0m ]\n\u001b[0;32m     29\u001b[0m durations \u001b[38;5;241m=\u001b[39m []\n\u001b[1;32m---> 30\u001b[0m \u001b[38;5;28;43;01mwith\u001b[39;49;00m\u001b[43m \u001b[49m\u001b[43mSQL_Communicator\u001b[49m\u001b[43m(\u001b[49m\u001b[43m)\u001b[49m\u001b[43m \u001b[49m\u001b[38;5;28;43;01mas\u001b[39;49;00m\u001b[43m \u001b[49m\u001b[43msc\u001b[49m\u001b[43m:\u001b[49m\n\u001b[0;32m     31\u001b[0m \u001b[43m    \u001b[49m\u001b[38;5;28;43;01mfor\u001b[39;49;00m\u001b[43m \u001b[49m\u001b[43men\u001b[49m\u001b[43m \u001b[49m\u001b[38;5;129;43;01min\u001b[39;49;00m\u001b[43m \u001b[49m\u001b[43mtqdm\u001b[49m\u001b[43m(\u001b[49m\u001b[43mentity_names\u001b[49m\u001b[43m)\u001b[49m\u001b[43m:\u001b[49m\n\u001b[0;32m     32\u001b[0m \u001b[43m        \u001b[49m\u001b[38;5;28;43mprint\u001b[39;49m\u001b[43m(\u001b[49m\u001b[38;5;124;43mf\u001b[39;49m\u001b[38;5;124;43m'\u001b[39;49m\u001b[38;5;124;43mflow for target entity \u001b[39;49m\u001b[38;5;132;43;01m{\u001b[39;49;00m\u001b[43men\u001b[49m\u001b[38;5;132;43;01m}\u001b[39;49;00m\u001b[38;5;124;43m..\u001b[39;49m\u001b[38;5;124;43m'\u001b[39;49m\u001b[43m)\u001b[49m\n",
      "File \u001b[1;32md:\\Code\\python_utils\\sql\\sql_requests.py:58\u001b[0m, in \u001b[0;36mSQL_Communicator.__exit__\u001b[1;34m(self, exc_type, exc_value, exc_tb)\u001b[0m\n\u001b[0;32m     57\u001b[0m \u001b[38;5;28;01mdef\u001b[39;00m \u001b[38;5;21m__exit__\u001b[39m(\u001b[38;5;28mself\u001b[39m, exc_type, exc_value, exc_tb):\n\u001b[1;32m---> 58\u001b[0m     \u001b[38;5;28;43mself\u001b[39;49m\u001b[38;5;241;43m.\u001b[39;49m\u001b[43mconnection\u001b[49m\u001b[38;5;241;43m.\u001b[39;49m\u001b[43mclose\u001b[49m\u001b[43m(\u001b[49m\u001b[43m)\u001b[49m\n",
      "\u001b[1;31mKeyboardInterrupt\u001b[0m: "
     ]
    }
   ],
   "source": [
    "entity_names =[\n",
    "    \"AddtlCompany_Address\",\n",
    "    \"AddtlCompany_BusinessDescription\",\n",
    "    \"AddtlCompany_LongBusinessDescription\",\n",
    "    \"CompanyBiteSize_CompanyBiteSize\",\n",
    "    \"CompanyGeosOfInt_CompanyGeosOfInterest\",\n",
    "    \"CompanyIndOfInt_CompanyIndustriesOfInterest\",\n",
    "    \"CompanyStagesOfInt_CompanyStagesOfInterest\",\n",
    "    \"GICS_GICS\",\n",
    "    \"KeyDev_FutureEvent\",\n",
    "    \"KeyDev_FutureEventToObjectToEventType\",\n",
    "    \"KeyDev_KeyDev\",\n",
    "    \"KeyDev_KeyDevToObjectToEventType\",\n",
    "    \"Professional_PersonProfessionalCompensation\",\n",
    "    \"Professional_PersonProfessional\",\n",
    "\n",
    "    \"Symbol_DandBSymbol\",\n",
    "    \"FutureEventMkt_FutureEventMkt\",\n",
    "    \"FutureEventMkt_FutureEventMktSplitInfo\",\n",
    "    \"FutureEventMkt_FutureEventMktToObjectToEventType\",\n",
    "\n",
    "    \"KeyDevPlus_KeyDev\",\n",
    "    \"KeyDevPlus_KeyDevToObjectToEventType\",\n",
    "    \"CompDetail_CompensationAdjustment\",\n",
    "    \"CompDetail_CompensationDetail\"\n",
    "]\n",
    "\n",
    "\n",
    "durations = []\n",
    "with SQL_Communicator() as sc:\n",
    "    for en in tqdm(entity_names):\n",
    "        print(f'flow for target entity {en}..')\n",
    "        en2 = nc.default_rename(en)\n",
    "        sp_names = [nc.pull_sp_name(en2), nc.merge_sp_name(en2)]\n",
    "        stage_tbl = nc.stg_table_name(en)\n",
    "        ent_durs, flow_td = [en2], timedelta()  \n",
    "        for i, sp_name in enumerate(sp_names):\n",
    "            exec_stm = f\"EXEC {sp_name}\"\n",
    "            print(f'- {exec_stm}...')\n",
    "            try:\n",
    "                td = sc.get_execution_metrics(exec_stm)\n",
    "                ent_durs.append(format_time_delta(td))\n",
    "                flow_td += td\n",
    "                print(f'  - duration {format_time_delta(td)}')\n",
    "                if i == 0:  ## pull sp\n",
    "                    rows_count, table_size = sc.get_table_size(stage_tbl)\n",
    "                    print(f'rows {rows_count}, stage table size: {table_size}')\n",
    "            except ex:\n",
    "                print(f'execution failed {ex}')\n",
    "\n",
    "        velocity = table_size / Decimal(flow_td.total_seconds()) if flow_td.total_seconds() else 0 \n",
    "        ent_durs.extend([format_time_delta(flow_td),  rows_count, table_size, f'{velocity:7.2f}'])\n",
    "        durations.append(ent_durs)\n",
    "        # ent_durs.append(sum(ent_durs))\n"
   ]
  },
  {
   "cell_type": "code",
   "execution_count": 6,
   "id": "9e97f970",
   "metadata": {},
   "outputs": [
    {
     "data": {
      "text/html": [
       "<div>\n",
       "<style scoped>\n",
       "    .dataframe tbody tr th:only-of-type {\n",
       "        vertical-align: middle;\n",
       "    }\n",
       "\n",
       "    .dataframe tbody tr th {\n",
       "        vertical-align: top;\n",
       "    }\n",
       "\n",
       "    .dataframe thead th {\n",
       "        text-align: right;\n",
       "    }\n",
       "</style>\n",
       "<table border=\"1\" class=\"dataframe\">\n",
       "  <thead>\n",
       "    <tr style=\"text-align: right;\">\n",
       "      <th></th>\n",
       "      <th>Entity name</th>\n",
       "      <th>Pull SP</th>\n",
       "      <th>Merge SP</th>\n",
       "      <th>sum</th>\n",
       "      <th>rows_count</th>\n",
       "      <th>table_size, MB</th>\n",
       "      <th>velocity</th>\n",
       "    </tr>\n",
       "  </thead>\n",
       "  <tbody>\n",
       "    <tr>\n",
       "      <th>0</th>\n",
       "      <td>AddtlCompany_Address2</td>\n",
       "      <td>01:10</td>\n",
       "      <td>02:15</td>\n",
       "      <td>03:26</td>\n",
       "      <td>18858666</td>\n",
       "      <td>1319.015625</td>\n",
       "      <td>6.39</td>\n",
       "    </tr>\n",
       "    <tr>\n",
       "      <th>1</th>\n",
       "      <td>AddtlCompany_BusinessDescription2</td>\n",
       "      <td>01:04</td>\n",
       "      <td>35.54</td>\n",
       "      <td>01:39</td>\n",
       "      <td>6774311</td>\n",
       "      <td>1747.703125</td>\n",
       "      <td>17.49</td>\n",
       "    </tr>\n",
       "    <tr>\n",
       "      <th>2</th>\n",
       "      <td>AddtlCompany_LongBusinessDescription2</td>\n",
       "      <td>2.18</td>\n",
       "      <td>1.63</td>\n",
       "      <td>3.81</td>\n",
       "      <td>77450</td>\n",
       "      <td>230.593750</td>\n",
       "      <td>60.55</td>\n",
       "    </tr>\n",
       "    <tr>\n",
       "      <th>3</th>\n",
       "      <td>CompanyBiteSize_CompanyBiteSize2</td>\n",
       "      <td>9.46</td>\n",
       "      <td>0.48</td>\n",
       "      <td>9.94</td>\n",
       "      <td>39625</td>\n",
       "      <td>2.203125</td>\n",
       "      <td>0.22</td>\n",
       "    </tr>\n",
       "    <tr>\n",
       "      <th>4</th>\n",
       "      <td>CompanyGeosOfInt_CompanyGeosOfInterest2</td>\n",
       "      <td>31.59</td>\n",
       "      <td>4.08</td>\n",
       "      <td>35.67</td>\n",
       "      <td>374445</td>\n",
       "      <td>15.140625</td>\n",
       "      <td>0.42</td>\n",
       "    </tr>\n",
       "    <tr>\n",
       "      <th>5</th>\n",
       "      <td>CompanyIndOfInt_CompanyIndustriesOfInterest2</td>\n",
       "      <td>5.20</td>\n",
       "      <td>4.81</td>\n",
       "      <td>10.01</td>\n",
       "      <td>840892</td>\n",
       "      <td>33.703125</td>\n",
       "      <td>3.37</td>\n",
       "    </tr>\n",
       "    <tr>\n",
       "      <th>6</th>\n",
       "      <td>CompanyStagesOfInt_CompanyStagesOfInterest2</td>\n",
       "      <td>7.11</td>\n",
       "      <td>1.31</td>\n",
       "      <td>8.41</td>\n",
       "      <td>163283</td>\n",
       "      <td>6.765625</td>\n",
       "      <td>0.80</td>\n",
       "    </tr>\n",
       "    <tr>\n",
       "      <th>7</th>\n",
       "      <td>GICS_GICS2</td>\n",
       "      <td>1.43</td>\n",
       "      <td>0.26</td>\n",
       "      <td>1.69</td>\n",
       "      <td>49569</td>\n",
       "      <td>2.453125</td>\n",
       "      <td>1.45</td>\n",
       "    </tr>\n",
       "    <tr>\n",
       "      <th>8</th>\n",
       "      <td>KeyDev_FutureEvent2</td>\n",
       "      <td>01:49</td>\n",
       "      <td>44.57</td>\n",
       "      <td>02:33</td>\n",
       "      <td>11343570</td>\n",
       "      <td>1911.343750</td>\n",
       "      <td>12.44</td>\n",
       "    </tr>\n",
       "    <tr>\n",
       "      <th>9</th>\n",
       "      <td>KeyDev_FutureEventToObjectToEventType2</td>\n",
       "      <td>28.58</td>\n",
       "      <td>32.14</td>\n",
       "      <td>01:00</td>\n",
       "      <td>7419249</td>\n",
       "      <td>273.414062</td>\n",
       "      <td>4.50</td>\n",
       "    </tr>\n",
       "    <tr>\n",
       "      <th>10</th>\n",
       "      <td>KeyDev_KeyDev2</td>\n",
       "      <td>04:52</td>\n",
       "      <td>03:26</td>\n",
       "      <td>08:19</td>\n",
       "      <td>56709636</td>\n",
       "      <td>11117.898437</td>\n",
       "      <td>22.28</td>\n",
       "    </tr>\n",
       "    <tr>\n",
       "      <th>11</th>\n",
       "      <td>KeyDev_KeyDevToObjectToEventType2</td>\n",
       "      <td>02:10</td>\n",
       "      <td>01:53</td>\n",
       "      <td>04:03</td>\n",
       "      <td>21176825</td>\n",
       "      <td>799.078125</td>\n",
       "      <td>3.28</td>\n",
       "    </tr>\n",
       "    <tr>\n",
       "      <th>12</th>\n",
       "      <td>Professional_PersonProfessionalCompensation2</td>\n",
       "      <td>02:00</td>\n",
       "      <td>02:10</td>\n",
       "      <td>04:11</td>\n",
       "      <td>14800305</td>\n",
       "      <td>1055.335937</td>\n",
       "      <td>4.20</td>\n",
       "    </tr>\n",
       "    <tr>\n",
       "      <th>13</th>\n",
       "      <td>Professional_PersonProfessional2</td>\n",
       "      <td>01:01</td>\n",
       "      <td>31.85</td>\n",
       "      <td>01:33</td>\n",
       "      <td>3613788</td>\n",
       "      <td>458.578125</td>\n",
       "      <td>4.93</td>\n",
       "    </tr>\n",
       "    <tr>\n",
       "      <th>14</th>\n",
       "      <td>Symbol_DandBSymbol2</td>\n",
       "      <td>38.66</td>\n",
       "      <td>40.48</td>\n",
       "      <td>01:19</td>\n",
       "      <td>5226818</td>\n",
       "      <td>275.328125</td>\n",
       "      <td>3.48</td>\n",
       "    </tr>\n",
       "    <tr>\n",
       "      <th>15</th>\n",
       "      <td>FutureEventMkt_FutureEventMkt2</td>\n",
       "      <td>02:30</td>\n",
       "      <td>01:15</td>\n",
       "      <td>03:46</td>\n",
       "      <td>19264586</td>\n",
       "      <td>2769.867187</td>\n",
       "      <td>12.22</td>\n",
       "    </tr>\n",
       "    <tr>\n",
       "      <th>16</th>\n",
       "      <td>FutureEventMkt_FutureEventMktSplitInfo2</td>\n",
       "      <td>16.20</td>\n",
       "      <td>18.41</td>\n",
       "      <td>34.62</td>\n",
       "      <td>3960371</td>\n",
       "      <td>232.023437</td>\n",
       "      <td>6.70</td>\n",
       "    </tr>\n",
       "    <tr>\n",
       "      <th>17</th>\n",
       "      <td>FutureEventMkt_FutureEventMktToObjectToEventType2</td>\n",
       "      <td>40.04</td>\n",
       "      <td>49.47</td>\n",
       "      <td>01:29</td>\n",
       "      <td>11379757</td>\n",
       "      <td>419.203125</td>\n",
       "      <td>4.68</td>\n",
       "    </tr>\n",
       "    <tr>\n",
       "      <th>18</th>\n",
       "      <td>KeyDevPlus_KeyDev2</td>\n",
       "      <td>06:29</td>\n",
       "      <td>04:19</td>\n",
       "      <td>10:49</td>\n",
       "      <td>69955530</td>\n",
       "      <td>14153.257812</td>\n",
       "      <td>21.80</td>\n",
       "    </tr>\n",
       "    <tr>\n",
       "      <th>19</th>\n",
       "      <td>KeyDevPlus_KeyDevToObjectToEventType2</td>\n",
       "      <td>01:41</td>\n",
       "      <td>01:31</td>\n",
       "      <td>03:12</td>\n",
       "      <td>21176825</td>\n",
       "      <td>779.898437</td>\n",
       "      <td>4.04</td>\n",
       "    </tr>\n",
       "    <tr>\n",
       "      <th>20</th>\n",
       "      <td>CompDetail_CompensationAdjustment2</td>\n",
       "      <td>0.15</td>\n",
       "      <td>0.04</td>\n",
       "      <td>0.19</td>\n",
       "      <td>152</td>\n",
       "      <td>0.070312</td>\n",
       "      <td>0.38</td>\n",
       "    </tr>\n",
       "    <tr>\n",
       "      <th>21</th>\n",
       "      <td>CompDetail_CompensationDetail2</td>\n",
       "      <td>01:37</td>\n",
       "      <td>02:17</td>\n",
       "      <td>03:54</td>\n",
       "      <td>23108990</td>\n",
       "      <td>2012.000000</td>\n",
       "      <td>8.58</td>\n",
       "    </tr>\n",
       "  </tbody>\n",
       "</table>\n",
       "</div>"
      ],
      "text/plain": [
       "                                          Entity name Pull SP Merge SP    sum  \\\n",
       "0                               AddtlCompany_Address2   01:10    02:15  03:26   \n",
       "1                   AddtlCompany_BusinessDescription2   01:04    35.54  01:39   \n",
       "2               AddtlCompany_LongBusinessDescription2    2.18     1.63   3.81   \n",
       "3                    CompanyBiteSize_CompanyBiteSize2    9.46     0.48   9.94   \n",
       "4             CompanyGeosOfInt_CompanyGeosOfInterest2   31.59     4.08  35.67   \n",
       "5        CompanyIndOfInt_CompanyIndustriesOfInterest2    5.20     4.81  10.01   \n",
       "6         CompanyStagesOfInt_CompanyStagesOfInterest2    7.11     1.31   8.41   \n",
       "7                                          GICS_GICS2    1.43     0.26   1.69   \n",
       "8                                 KeyDev_FutureEvent2   01:49    44.57  02:33   \n",
       "9              KeyDev_FutureEventToObjectToEventType2   28.58    32.14  01:00   \n",
       "10                                     KeyDev_KeyDev2   04:52    03:26  08:19   \n",
       "11                  KeyDev_KeyDevToObjectToEventType2   02:10    01:53  04:03   \n",
       "12       Professional_PersonProfessionalCompensation2   02:00    02:10  04:11   \n",
       "13                   Professional_PersonProfessional2   01:01    31.85  01:33   \n",
       "14                                Symbol_DandBSymbol2   38.66    40.48  01:19   \n",
       "15                     FutureEventMkt_FutureEventMkt2   02:30    01:15  03:46   \n",
       "16            FutureEventMkt_FutureEventMktSplitInfo2   16.20    18.41  34.62   \n",
       "17  FutureEventMkt_FutureEventMktToObjectToEventType2   40.04    49.47  01:29   \n",
       "18                                 KeyDevPlus_KeyDev2   06:29    04:19  10:49   \n",
       "19              KeyDevPlus_KeyDevToObjectToEventType2   01:41    01:31  03:12   \n",
       "20                 CompDetail_CompensationAdjustment2    0.15     0.04   0.19   \n",
       "21                     CompDetail_CompensationDetail2   01:37    02:17  03:54   \n",
       "\n",
       "    rows_count table_size, MB velocity  \n",
       "0     18858666    1319.015625     6.39  \n",
       "1      6774311    1747.703125    17.49  \n",
       "2        77450     230.593750    60.55  \n",
       "3        39625       2.203125     0.22  \n",
       "4       374445      15.140625     0.42  \n",
       "5       840892      33.703125     3.37  \n",
       "6       163283       6.765625     0.80  \n",
       "7        49569       2.453125     1.45  \n",
       "8     11343570    1911.343750    12.44  \n",
       "9      7419249     273.414062     4.50  \n",
       "10    56709636   11117.898437    22.28  \n",
       "11    21176825     799.078125     3.28  \n",
       "12    14800305    1055.335937     4.20  \n",
       "13     3613788     458.578125     4.93  \n",
       "14     5226818     275.328125     3.48  \n",
       "15    19264586    2769.867187    12.22  \n",
       "16     3960371     232.023437     6.70  \n",
       "17    11379757     419.203125     4.68  \n",
       "18    69955530   14153.257812    21.80  \n",
       "19    21176825     779.898437     4.04  \n",
       "20         152       0.070312     0.38  \n",
       "21    23108990    2012.000000     8.58  "
      ]
     },
     "execution_count": 6,
     "metadata": {},
     "output_type": "execute_result"
    }
   ],
   "source": [
    "columns = ['Entity name', 'Pull SP', 'Merge SP',  'sum', 'rows_count', 'table_size, MB', 'velocity']\n",
    "df = pd.DataFrame(durations, columns = columns)\n",
    "df"
   ]
  }
 ],
 "metadata": {
  "kernelspec": {
   "display_name": "Python 3 (ipykernel)",
   "language": "python",
   "name": "python3"
  },
  "language_info": {
   "codemirror_mode": {
    "name": "ipython",
    "version": 3
   },
   "file_extension": ".py",
   "mimetype": "text/x-python",
   "name": "python",
   "nbconvert_exporter": "python",
   "pygments_lexer": "ipython3",
   "version": "3.12.3"
  }
 },
 "nbformat": 4,
 "nbformat_minor": 5
}
