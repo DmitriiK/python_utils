{
 "cells": [
  {
   "cell_type": "markdown",
   "id": "2e621466",
   "metadata": {},
   "source": [
    "### launching of SPs\n",
    "\n"
   ]
  },
  {
   "cell_type": "code",
   "execution_count": 1,
   "id": "09124eba",
   "metadata": {},
   "outputs": [],
   "source": [
    "from datetime import timedelta\n",
    "from decimal import Decimal\n",
    "from tqdm import tqdm\n",
    "import pandas as pd\n",
    "\n",
    "import pyodbc\n",
    "from sql.config import SQL_SERVER, DB_NAME\n",
    "import sql.naming_convention as nc\n",
    "from sql.sql_requests import SQL_Communicator"
   ]
  },
  {
   "cell_type": "code",
   "execution_count": 2,
   "id": "e3f4aaec",
   "metadata": {},
   "outputs": [],
   "source": [
    "def format_time_delta(duration: timedelta):\n",
    "    # Get the total seconds\n",
    "    total_seconds = duration.total_seconds()\n",
    "    # days = duration.days\n",
    "    hours = duration.seconds // 3600  # Convert seconds to hours\n",
    "    minutes = (duration.seconds // 60) % 60  # Convert remaining seconds to minutes\n",
    "    seconds = duration.seconds % 60\n",
    "    if hours > 0:\n",
    "        return f'{hours:02d}:{minutes:02d}:{int(seconds):02d}'\n",
    "    if minutes > 0:\n",
    "        return f'{minutes:02d}:{int(seconds):02d}'\n",
    "    return f'{total_seconds:4.2f}'"
   ]
  },
  {
   "cell_type": "code",
   "execution_count": 4,
   "id": "7d2590ed",
   "metadata": {},
   "outputs": [
    {
     "name": "stdout",
     "output_type": "stream",
     "text": [
      "connecting...\n",
      "Connection successful!\n"
     ]
    },
    {
     "name": "stderr",
     "output_type": "stream",
     "text": [
      "  0%|          | 0/6 [00:00<?, ?it/s]"
     ]
    },
    {
     "name": "stdout",
     "output_type": "stream",
     "text": [
      "flow for target entity Professional_Compensation..\n",
      "- EXEC dbo.PullData_Professional_Compensation2_prc...\n",
      "  - duration 03:10\n",
      "rows 48222280, stage table size: 3795.203125\n",
      "- EXEC dbo.MergeData_Professional_Compensation2_prc...\n"
     ]
    },
    {
     "name": "stderr",
     "output_type": "stream",
     "text": [
      " 17%|█▋        | 1/6 [10:15<51:17, 615.46s/it]"
     ]
    },
    {
     "name": "stdout",
     "output_type": "stream",
     "text": [
      "  - duration 07:04\n",
      "flow for target entity Professional_Person..\n",
      "- EXEC dbo.PullData_Professional_Person2_prc...\n",
      "  - duration 38.12\n",
      "rows 5959980, stage table size: 361.023437\n",
      "- EXEC dbo.MergeData_Professional_Person2_prc...\n"
     ]
    },
    {
     "name": "stderr",
     "output_type": "stream",
     "text": [
      " 33%|███▎      | 2/6 [11:41<20:15, 303.96s/it]"
     ]
    },
    {
     "name": "stdout",
     "output_type": "stream",
     "text": [
      "  - duration 47.73\n",
      "flow for target entity Professional_BiographyPerson..\n",
      "- EXEC dbo.PullData_Professional_BiographyPerson2_prc...\n",
      "  - duration 01:30\n",
      "rows 5367678, stage table size: 3037.609375\n",
      "- EXEC dbo.MergeData_Professional_BiographyPerson2_prc...\n"
     ]
    },
    {
     "name": "stderr",
     "output_type": "stream",
     "text": [
      " 50%|█████     | 3/6 [13:49<11:11, 223.86s/it]"
     ]
    },
    {
     "name": "stdout",
     "output_type": "stream",
     "text": [
      "  - duration 37.64\n",
      "flow for target entity Professional_Professional..\n",
      "- EXEC dbo.PullData_Professional_Professional2_prc...\n",
      "  - duration 04:20\n",
      "rows 10688109, stage table size: 1825.593750\n",
      "- EXEC dbo.MergeData_Professional_Professional2_prc...\n"
     ]
    },
    {
     "name": "stderr",
     "output_type": "stream",
     "text": [
      " 67%|██████▋   | 4/6 [23:31<12:10, 365.27s/it]"
     ]
    },
    {
     "name": "stdout",
     "output_type": "stream",
     "text": [
      "  - duration 05:21\n",
      "flow for target entity Professional_ProfessionalCoverage..\n",
      "- EXEC dbo.PullData_Professional_ProfessionalCoverage2_prc...\n",
      "  - duration 0.98\n",
      "rows 215352, stage table size: 7.578125\n",
      "- EXEC dbo.MergeData_Professional_ProfessionalCoverage2_prc...\n"
     ]
    },
    {
     "name": "stderr",
     "output_type": "stream",
     "text": [
      " 83%|████████▎ | 5/6 [23:34<03:54, 234.35s/it]"
     ]
    },
    {
     "name": "stdout",
     "output_type": "stream",
     "text": [
      "  - duration 1.17\n",
      "flow for target entity Professional_ProToProFunction..\n",
      "- EXEC dbo.PullData_Professional_ProToProFunction2_prc...\n",
      "  - duration 50.88\n",
      "rows 17431418, stage table size: 1109.140625\n",
      "- EXEC dbo.MergeData_Professional_ProToProFunction2_prc...\n"
     ]
    },
    {
     "name": "stderr",
     "output_type": "stream",
     "text": [
      "100%|██████████| 6/6 [26:02<00:00, 260.37s/it]"
     ]
    },
    {
     "name": "stdout",
     "output_type": "stream",
     "text": [
      "  - duration 01:37\n"
     ]
    },
    {
     "name": "stderr",
     "output_type": "stream",
     "text": [
      "\n"
     ]
    }
   ],
   "source": [
    "entity_names =[\n",
    "\"Professional_Compensation\",\n",
    "\"Professional_Person\",\n",
    "\"Professional_BiographyPerson\",\n",
    "\"Professional_Professional\",\n",
    "\"Professional_ProfessionalCoverage\",\n",
    "\"Professional_ProToProFunction\",\n",
    "]\n",
    "\n",
    "\n",
    "\n",
    "durations = []\n",
    "with SQL_Communicator() as sc:\n",
    "    for en in tqdm(entity_names):\n",
    "        print(f'flow for target entity {en}..')\n",
    "        en2 = nc.default_rename(en)\n",
    "        sp_names = [nc.pull_sp_name(en2), nc.merge_sp_name(en2)]\n",
    "        stage_tbl = nc.stg_table_name(en)\n",
    "        ent_durs, flow_td = [en2], timedelta()  \n",
    "        for i, sp_name in enumerate(sp_names):\n",
    "            exec_stm = f\"EXEC {sp_name}\"\n",
    "            print(f'- {exec_stm}...')\n",
    "            try:\n",
    "                td = sc.get_execution_metrics(exec_stm)\n",
    "                ent_durs.append(format_time_delta(td))\n",
    "                flow_td += td\n",
    "                print(f'  - duration {format_time_delta(td)}')\n",
    "                if i == 0:  ## pull sp\n",
    "                    rows_count, table_size = sc.get_table_size(stage_tbl)\n",
    "                    print(f'rows {rows_count}, stage table size: {table_size}')\n",
    "            except ex:\n",
    "                print(f'execution failed {ex}')\n",
    "        rows_count = rows_count /1000\n",
    "        velocity = table_size / Decimal(flow_td.total_seconds()) if flow_td.total_seconds() else 0 \n",
    "        ent_durs.extend([format_time_delta(flow_td), f'{rows_count:7.3f} , f'{table_size:7.2f}', f'{velocity:7.2f}'])\n",
    "        durations.append(ent_durs)\n",
    "        # ent_durs.append(sum(ent_durs))\n"
   ]
  },
  {
   "cell_type": "code",
   "execution_count": 18,
   "id": "9e97f970",
   "metadata": {},
   "outputs": [
    {
     "data": {
      "text/html": [
       "<div>\n",
       "<style scoped>\n",
       "    .dataframe tbody tr th:only-of-type {\n",
       "        vertical-align: middle;\n",
       "    }\n",
       "\n",
       "    .dataframe tbody tr th {\n",
       "        vertical-align: top;\n",
       "    }\n",
       "\n",
       "    .dataframe thead th {\n",
       "        text-align: right;\n",
       "    }\n",
       "</style>\n",
       "<table border=\"1\" class=\"dataframe\">\n",
       "  <thead>\n",
       "    <tr style=\"text-align: right;\">\n",
       "      <th></th>\n",
       "      <th>Entity name</th>\n",
       "      <th>Pull SP</th>\n",
       "      <th>Merge SP</th>\n",
       "      <th>sum</th>\n",
       "      <th>rows_count, K</th>\n",
       "      <th>table_size, MB</th>\n",
       "      <th>velocity</th>\n",
       "    </tr>\n",
       "  </thead>\n",
       "  <tbody>\n",
       "    <tr>\n",
       "      <th>0</th>\n",
       "      <td>Professional_Compensation2</td>\n",
       "      <td>03:10</td>\n",
       "      <td>07:04</td>\n",
       "      <td>10:15</td>\n",
       "      <td>48222.280</td>\n",
       "      <td>3795</td>\n",
       "      <td>6.17</td>\n",
       "    </tr>\n",
       "    <tr>\n",
       "      <th>1</th>\n",
       "      <td>Professional_Person2</td>\n",
       "      <td>38.12</td>\n",
       "      <td>47.73</td>\n",
       "      <td>01:25</td>\n",
       "      <td>5959.980</td>\n",
       "      <td>361</td>\n",
       "      <td>4.21</td>\n",
       "    </tr>\n",
       "    <tr>\n",
       "      <th>2</th>\n",
       "      <td>Professional_BiographyPerson2</td>\n",
       "      <td>01:30</td>\n",
       "      <td>37.64</td>\n",
       "      <td>02:08</td>\n",
       "      <td>5367.678</td>\n",
       "      <td>3037</td>\n",
       "      <td>23.65</td>\n",
       "    </tr>\n",
       "    <tr>\n",
       "      <th>3</th>\n",
       "      <td>Professional_Professional2</td>\n",
       "      <td>04:20</td>\n",
       "      <td>05:21</td>\n",
       "      <td>09:41</td>\n",
       "      <td>10688.109</td>\n",
       "      <td>1825</td>\n",
       "      <td>3.14</td>\n",
       "    </tr>\n",
       "    <tr>\n",
       "      <th>4</th>\n",
       "      <td>Professional_ProfessionalCoverage2</td>\n",
       "      <td>0.98</td>\n",
       "      <td>1.17</td>\n",
       "      <td>2.15</td>\n",
       "      <td>215.352</td>\n",
       "      <td>7</td>\n",
       "      <td>3.52</td>\n",
       "    </tr>\n",
       "    <tr>\n",
       "      <th>5</th>\n",
       "      <td>Professional_ProToProFunction2</td>\n",
       "      <td>50.88</td>\n",
       "      <td>01:37</td>\n",
       "      <td>02:28</td>\n",
       "      <td>17431.418</td>\n",
       "      <td>1109</td>\n",
       "      <td>7.49</td>\n",
       "    </tr>\n",
       "  </tbody>\n",
       "</table>\n",
       "</div>"
      ],
      "text/plain": [
       "                          Entity name Pull SP Merge SP    sum  rows_count, K  \\\n",
       "0          Professional_Compensation2   03:10    07:04  10:15      48222.280   \n",
       "1                Professional_Person2   38.12    47.73  01:25       5959.980   \n",
       "2       Professional_BiographyPerson2   01:30    37.64  02:08       5367.678   \n",
       "3          Professional_Professional2   04:20    05:21  09:41      10688.109   \n",
       "4  Professional_ProfessionalCoverage2    0.98     1.17   2.15        215.352   \n",
       "5      Professional_ProToProFunction2   50.88    01:37  02:28      17431.418   \n",
       "\n",
       "   table_size, MB velocity  \n",
       "0            3795     6.17  \n",
       "1             361     4.21  \n",
       "2            3037    23.65  \n",
       "3            1825     3.14  \n",
       "4               7     3.52  \n",
       "5            1109     7.49  "
      ]
     },
     "execution_count": 18,
     "metadata": {},
     "output_type": "execute_result"
    }
   ],
   "source": [
    "columns = ['Entity name', 'Pull SP', 'Merge SP',  'sum', 'rows_count, K', 'table_size, MB', 'velocity, MB/sec']\n",
    "df = pd.DataFrame(durations, columns = columns)\n",
    "# df['table_size, MB'] = df ['table_size, MB'].astype('int')\n",
    "# df['rows_count, K'] = df['rows_count, K']/1000\n",
    "df"
   ]
  }
 ],
 "metadata": {
  "kernelspec": {
   "display_name": "Python 3 (ipykernel)",
   "language": "python",
   "name": "python3"
  },
  "language_info": {
   "codemirror_mode": {
    "name": "ipython",
    "version": 3
   },
   "file_extension": ".py",
   "mimetype": "text/x-python",
   "name": "python",
   "nbconvert_exporter": "python",
   "pygments_lexer": "ipython3",
   "version": "3.12.3"
  }
 },
 "nbformat": 4,
 "nbformat_minor": 5
}
