{
 "cells": [
  {
   "cell_type": "markdown",
   "id": "2e621466",
   "metadata": {},
   "source": [
    "### launching of SPs\n",
    "\n"
   ]
  },
  {
   "cell_type": "code",
   "execution_count": 5,
   "id": "09124eba",
   "metadata": {},
   "outputs": [],
   "source": [
    "from datetime import timedelta\n",
    "from decimal import Decimal\n",
    "from tqdm import tqdm\n",
    "import pandas as pd\n",
    "\n",
    "import pyodbc\n",
    "from sql.config import SQL_SERVER, DB_NAME\n",
    "import sql.naming_convention as nc\n",
    "from sql.sql_requests import SQL_Communicator"
   ]
  },
  {
   "cell_type": "code",
   "execution_count": 6,
   "id": "e3f4aaec",
   "metadata": {},
   "outputs": [],
   "source": [
    "def format_time_delta(duration: timedelta):\n",
    "    # Get the total seconds\n",
    "    total_seconds = duration.total_seconds()\n",
    "    # days = duration.days\n",
    "    hours = duration.seconds // 3600  # Convert seconds to hours\n",
    "    minutes = (duration.seconds // 60) % 60  # Convert remaining seconds to minutes\n",
    "    seconds = duration.seconds % 60\n",
    "    if hours > 0:\n",
    "        return f'{hours:02d}:{minutes:02d}:{int(seconds):02d}'\n",
    "    if minutes > 0:\n",
    "        return f'{minutes:02d}:{int(seconds):02d}'\n",
    "    return f'{total_seconds:4.2f}'"
   ]
  },
  {
   "cell_type": "code",
   "execution_count": 9,
   "id": "7d2590ed",
   "metadata": {},
   "outputs": [
    {
     "name": "stdout",
     "output_type": "stream",
     "text": [
      "connecting...\n",
      "Connection successful!\n"
     ]
    },
    {
     "name": "stderr",
     "output_type": "stream",
     "text": [
      "  0%|          | 0/1 [00:00<?, ?it/s]"
     ]
    },
    {
     "name": "stdout",
     "output_type": "stream",
     "text": [
      "flow for target entity FutureEventMkt_FutureEventMktToObjectToEventType..\n",
      "- EXEC dbo.PullData_FutureEventMkt_FutureEventMktToObjectToEventType2_prc...\n",
      "  - duration 39.30\n",
      "rows 11379757, stage table size: 419.203125\n",
      "- EXEC dbo.MergeData_FutureEventMkt_FutureEventMktToObjectToEventType2_prc...\n",
      "  - duration 48.25\n",
      "- EXEC dbo.MergeDataDirect_FutureEventMkt_FutureEventMktToObjectToEventType2_prc...\n"
     ]
    },
    {
     "name": "stderr",
     "output_type": "stream",
     "text": [
      "100%|██████████| 1/1 [02:01<00:00, 121.66s/it]"
     ]
    },
    {
     "name": "stdout",
     "output_type": "stream",
     "text": [
      "  - duration 33.99\n"
     ]
    },
    {
     "name": "stderr",
     "output_type": "stream",
     "text": [
      "\n"
     ]
    }
   ],
   "source": [
    "entity_names =[\n",
    "\n",
    "\"FutureEventMkt_FutureEventMktToObjectToEventType\"\n",
    "]\n",
    "\n",
    "durations = []\n",
    "with SQL_Communicator() as sc:\n",
    "    for en in tqdm(entity_names):\n",
    "        print(f'flow for target entity {en}..')\n",
    "        en2 = nc.default_rename(en)\n",
    "        sp_names = [nc.pull_sp_name(en2), nc.merge_sp_name(en2), nc.merge_direct_sp_name(en2)]\n",
    "        stage_tbl = nc.stg_table_name(en)\n",
    "        trg_tbl = nc.table_name(nc.default_rename(en))\n",
    "        ent_durs, flow_td = [en2], timedelta()  \n",
    "        for i, sp_name in enumerate(sp_names):\n",
    "            exec_stm = f\"EXEC {sp_name}\"\n",
    "            print(f'- {exec_stm}...')\n",
    "            try:\n",
    "                td = sc.get_execution_metrics(exec_stm)\n",
    "                ent_durs.append(format_time_delta(td))\n",
    "                if i < 2:\n",
    "                    flow_td +=td\n",
    "                if  i == 1:\n",
    "                    ent_durs.append(format_time_delta(flow_td))\n",
    "                print(f'  - duration {format_time_delta(td)}')\n",
    "                if i == 0:  ## pull sp\n",
    "                    rows_count, table_size = sc.get_table_size(stage_tbl)\n",
    "                    print(f'rows {rows_count}, stage table size: {table_size}')\n",
    "                # sc.get_execution_metrics(f'TRUNCATE table {trg_tbl}')\n",
    "            except Exception as ex:\n",
    "                print(f'shit happened {ex}')\n",
    "        rows_count = rows_count /1000\n",
    "        velocity = table_size / Decimal(flow_td.total_seconds()) if flow_td.total_seconds() else 0 \n",
    "        ent_durs.extend([f'{rows_count:7.2f}' , f'{table_size:7.2f}', f'{velocity:7.2f}'])\n",
    "        durations.append(ent_durs)\n",
    "        # ent_durs.append(sum(ent_durs))\n"
   ]
  },
  {
   "cell_type": "code",
   "execution_count": 10,
   "id": "9e97f970",
   "metadata": {},
   "outputs": [
    {
     "data": {
      "text/html": [
       "<div>\n",
       "<style scoped>\n",
       "    .dataframe tbody tr th:only-of-type {\n",
       "        vertical-align: middle;\n",
       "    }\n",
       "\n",
       "    .dataframe tbody tr th {\n",
       "        vertical-align: top;\n",
       "    }\n",
       "\n",
       "    .dataframe thead th {\n",
       "        text-align: right;\n",
       "    }\n",
       "</style>\n",
       "<table border=\"1\" class=\"dataframe\">\n",
       "  <thead>\n",
       "    <tr style=\"text-align: right;\">\n",
       "      <th></th>\n",
       "      <th>Entity name</th>\n",
       "      <th>Pull SP</th>\n",
       "      <th>Merge SP</th>\n",
       "      <th>sum</th>\n",
       "      <th>Merge Direct</th>\n",
       "      <th>rows_count, K</th>\n",
       "      <th>table_size, MB</th>\n",
       "      <th>velocity, MB/sec</th>\n",
       "    </tr>\n",
       "  </thead>\n",
       "  <tbody>\n",
       "    <tr>\n",
       "      <th>0</th>\n",
       "      <td>FutureEventMkt_FutureEventMktToObjectToEventType2</td>\n",
       "      <td>39.30</td>\n",
       "      <td>48.25</td>\n",
       "      <td>01:27</td>\n",
       "      <td>33.99</td>\n",
       "      <td>11379.76</td>\n",
       "      <td>419.20</td>\n",
       "      <td>4.79</td>\n",
       "    </tr>\n",
       "  </tbody>\n",
       "</table>\n",
       "</div>"
      ],
      "text/plain": [
       "                                         Entity name Pull SP Merge SP    sum  \\\n",
       "0  FutureEventMkt_FutureEventMktToObjectToEventType2   39.30    48.25  01:27   \n",
       "\n",
       "  Merge Direct rows_count, K table_size, MB velocity, MB/sec  \n",
       "0        33.99      11379.76         419.20             4.79  "
      ]
     },
     "execution_count": 10,
     "metadata": {},
     "output_type": "execute_result"
    }
   ],
   "source": [
    "columns = ['Entity name', 'Pull SP', 'Merge SP', 'sum', 'Merge Direct',  'rows_count, K', 'table_size, MB', 'velocity, MB/sec']\n",
    "df = pd.DataFrame(durations, columns = columns)\n",
    "# df['table_size, MB'] = df ['table_size, MB'].astype('int')\n",
    "# df['rows_count, K'] = df['rows_count, K']/1000\n",
    "df"
   ]
  }
 ],
 "metadata": {
  "kernelspec": {
   "display_name": "Python 3 (ipykernel)",
   "language": "python",
   "name": "python3"
  },
  "language_info": {
   "codemirror_mode": {
    "name": "ipython",
    "version": 3
   },
   "file_extension": ".py",
   "mimetype": "text/x-python",
   "name": "python",
   "nbconvert_exporter": "python",
   "pygments_lexer": "ipython3",
   "version": "3.12.3"
  }
 },
 "nbformat": 4,
 "nbformat_minor": 5
}
