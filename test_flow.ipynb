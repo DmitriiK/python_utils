{
 "cells": [
  {
   "cell_type": "markdown",
   "id": "2e621466",
   "metadata": {},
   "source": [
    "### launching of SPs\n",
    "\n"
   ]
  },
  {
   "cell_type": "code",
   "execution_count": 1,
   "id": "09124eba",
   "metadata": {},
   "outputs": [],
   "source": [
    "from datetime import timedelta\n",
    "from decimal import Decimal\n",
    "from tqdm import tqdm\n",
    "import pandas as pd\n",
    "\n",
    "import pyodbc\n",
    "from sql.config import SQL_SERVER, DB_NAME\n",
    "import sql.naming_convention as nc\n",
    "from sql.sql_requests import SQL_Communicator"
   ]
  },
  {
   "cell_type": "code",
   "execution_count": 2,
   "id": "e3f4aaec",
   "metadata": {},
   "outputs": [],
   "source": [
    "def format_time_delta(duration: timedelta):\n",
    "    # Get the total seconds\n",
    "    total_seconds = duration.total_seconds()\n",
    "    # days = duration.days\n",
    "    hours = duration.seconds // 3600  # Convert seconds to hours\n",
    "    minutes = (duration.seconds // 60) % 60  # Convert remaining seconds to minutes\n",
    "    seconds = duration.seconds % 60\n",
    "    if hours > 0:\n",
    "        return f'{hours:02d}:{minutes:02d}:{int(seconds):02d}'\n",
    "    if minutes > 0:\n",
    "        return f'{minutes:02d}:{int(seconds):02d}'\n",
    "    return f'{total_seconds:4.2f}'"
   ]
  },
  {
   "cell_type": "code",
   "execution_count": 3,
   "id": "7d2590ed",
   "metadata": {},
   "outputs": [
    {
     "name": "stdout",
     "output_type": "stream",
     "text": [
      "connecting...\n",
      "Connection successful!\n"
     ]
    },
    {
     "name": "stderr",
     "output_type": "stream",
     "text": [
      "  0%|          | 0/14 [00:00<?, ?it/s]"
     ]
    },
    {
     "name": "stdout",
     "output_type": "stream",
     "text": [
      "flow for target entity CompanyRel_CompanyRel..\n",
      "- EXEC dbo.PullData_CompanyRel_CompanyRel2_prc...\n",
      "  - duration 01:30\n",
      "rows 13406763, stage table size: 653.203125\n",
      "- EXEC dbo.MergeData_CompanyRel_CompanyRel2_prc...\n"
     ]
    },
    {
     "name": "stderr",
     "output_type": "stream",
     "text": [
      "  7%|▋         | 1/14 [02:30<32:42, 150.95s/it]"
     ]
    },
    {
     "name": "stdout",
     "output_type": "stream",
     "text": [
      "  - duration 01:00\n",
      "flow for target entity Competitors_Competitors..\n",
      "- EXEC dbo.PullData_Competitors_Competitors2_prc...\n",
      "  - duration 2.58\n",
      "rows 920338, stage table size: 31.453125\n",
      "- EXEC dbo.MergeData_Competitors_Competitors2_prc...\n"
     ]
    },
    {
     "name": "stderr",
     "output_type": "stream",
     "text": [
      " 14%|█▍        | 2/14 [02:37<13:14, 66.20s/it] "
     ]
    },
    {
     "name": "stdout",
     "output_type": "stream",
     "text": [
      "  - duration 4.28\n",
      "flow for target entity Competitors_CompetitorToSource..\n",
      "- EXEC dbo.PullData_Competitors_CompetitorToSource2_prc...\n",
      "  - duration 3.00\n",
      "rows 920387, stage table size: 31.453125\n",
      "- EXEC dbo.MergeData_Competitors_CompetitorToSource2_prc...\n"
     ]
    },
    {
     "name": "stderr",
     "output_type": "stream",
     "text": [
      " 21%|██▏       | 3/14 [02:45<07:12, 39.33s/it]"
     ]
    },
    {
     "name": "stdout",
     "output_type": "stream",
     "text": [
      "  - duration 4.35\n",
      "flow for target entity PeopleBasic_Person..\n",
      "- EXEC dbo.PullData_PeopleBasic_Person2_prc...\n",
      "  - duration 27.25\n",
      "rows 5959980, stage table size: 321.140625\n",
      "- EXEC dbo.MergeData_PeopleBasic_Person2_prc...\n"
     ]
    },
    {
     "name": "stderr",
     "output_type": "stream",
     "text": [
      " 29%|██▊       | 4/14 [03:53<08:28, 50.80s/it]"
     ]
    },
    {
     "name": "stdout",
     "output_type": "stream",
     "text": [
      "  - duration 41.13\n",
      "flow for target entity PeopleBasic_ProToProFunction..\n",
      "- EXEC dbo.PullData_PeopleBasic_ProToProFunction2_prc...\n",
      "  - duration 01:36\n",
      "rows 15095858, stage table size: 939.703125\n",
      "- EXEC dbo.MergeData_PeopleBasic_ProToProFunction2_prc...\n"
     ]
    },
    {
     "name": "stderr",
     "output_type": "stream",
     "text": [
      " 36%|███▌      | 5/14 [08:08<18:38, 124.28s/it]"
     ]
    },
    {
     "name": "stdout",
     "output_type": "stream",
     "text": [
      "  - duration 02:37\n",
      "flow for target entity CompanyNames_AlternateCompanyName..\n",
      "- EXEC dbo.PullData_CompanyNames_AlternateCompanyName2_prc...\n",
      "  - duration 15.14\n",
      "rows 2676602, stage table size: 202.703125\n",
      "- EXEC dbo.MergeData_CompanyNames_AlternateCompanyName2_prc...\n"
     ]
    },
    {
     "name": "stderr",
     "output_type": "stream",
     "text": [
      " 43%|████▎     | 6/14 [08:37<12:14, 91.85s/it] "
     ]
    },
    {
     "name": "stdout",
     "output_type": "stream",
     "text": [
      "  - duration 13.69\n",
      "flow for target entity CompanyNames_SearchCompanyName..\n",
      "- EXEC dbo.PullData_CompanyNames_SearchCompanyName2_prc...\n",
      "  - duration 11:27\n",
      "rows 161240439, stage table size: 10684.398437\n",
      "- EXEC dbo.MergeData_CompanyNames_SearchCompanyName2_prc...\n"
     ]
    },
    {
     "name": "stderr",
     "output_type": "stream",
     "text": [
      " 50%|█████     | 7/14 [34:36<1:06:41, 571.60s/it]"
     ]
    },
    {
     "name": "stdout",
     "output_type": "stream",
     "text": [
      "  - duration 14:31\n",
      "flow for target entity KeyDocument_KeyDocumentToSecurity..\n",
      "- EXEC dbo.PullData_KeyDocument_KeyDocumentToSecurity2_prc...\n",
      "  - duration 13.12\n",
      "rows 886611, stage table size: 79.140625\n",
      "- EXEC dbo.MergeData_KeyDocument_KeyDocumentToSecurity2_prc...\n"
     ]
    },
    {
     "name": "stderr",
     "output_type": "stream",
     "text": [
      " 57%|█████▋    | 8/14 [34:50<39:25, 394.28s/it]  "
     ]
    },
    {
     "name": "stdout",
     "output_type": "stream",
     "text": [
      "  - duration 1.39\n",
      "flow for target entity FinAuditor_FinancialToAdvisor..\n",
      "- EXEC dbo.PullData_FinAuditor_FinancialToAdvisor2_prc...\n",
      "  - duration 3.20\n",
      "rows 1229242, stage table size: 47.953125\n",
      "- EXEC dbo.MergeData_FinAuditor_FinancialToAdvisor2_prc...\n"
     ]
    },
    {
     "name": "stderr",
     "output_type": "stream",
     "text": [
      " 64%|██████▍   | 9/14 [35:00<22:50, 274.13s/it]"
     ]
    },
    {
     "name": "stdout",
     "output_type": "stream",
     "text": [
      "  - duration 6.67\n",
      "flow for target entity BusinessRel_BusinessRel..\n",
      "- EXEC dbo.PullData_BusinessRel_BusinessRel2_prc...\n",
      "shit happened ('42000', \"[42000] [Microsoft][ODBC Driver 17 for SQL Server][SQL Server]Could not find stored procedure 'dbo.PullData_BusinessRel_BusinessRel2_prc'. (2812) (SQLExecDirectW)\")\n",
      "- EXEC dbo.MergeData_BusinessRel_BusinessRel2_prc...\n",
      "shit happened ('42000', \"[42000] [Microsoft][ODBC Driver 17 for SQL Server][SQL Server]Could not find stored procedure 'dbo.MergeData_BusinessRel_BusinessRel2_prc'. (2812) (SQLExecDirectW)\")\n",
      "flow for target entity Product_Product..\n",
      "- EXEC dbo.PullData_Product_Product2_prc...\n"
     ]
    },
    {
     "name": "stderr",
     "output_type": "stream",
     "text": [
      " 79%|███████▊  | 11/14 [35:13<07:23, 147.69s/it]"
     ]
    },
    {
     "name": "stdout",
     "output_type": "stream",
     "text": [
      "shit happened ('23000', \"[23000] [Microsoft][ODBC Driver 17 for SQL Server][SQL Server]Cannot insert duplicate key row in object 'stg.Product_Product_tbl' with unique index 'IX_product_productID'. The duplicate key value is (912745051). (2601) (SQLExecDirectW); [23000] [Microsoft][ODBC Driver 17 for SQL Server][SQL Server]The statement has been terminated. (3621)\")\n",
      "- EXEC dbo.MergeData_Product_Product2_prc...\n",
      "  - duration 0.04\n",
      "flow for target entity KeyDocument_KeyDocument..\n",
      "- EXEC dbo.PullData_KeyDocument_KeyDocument2_prc...\n",
      "  - duration 50.02\n",
      "rows 2713791, stage table size: 439.515625\n",
      "- EXEC dbo.MergeData_KeyDocument_KeyDocument2_prc...\n"
     ]
    },
    {
     "name": "stderr",
     "output_type": "stream",
     "text": [
      " 86%|████████▌ | 12/14 [36:39<04:24, 132.30s/it]"
     ]
    },
    {
     "name": "stdout",
     "output_type": "stream",
     "text": [
      "  - duration 36.53\n",
      "flow for target entity PeopleBasic_Professional..\n",
      "- EXEC dbo.PullData_PeopleBasic_Professional2_prc...\n",
      "  - duration 01:17\n",
      "rows 10688109, stage table size: 829.335937\n",
      "- EXEC dbo.MergeData_PeopleBasic_Professional2_prc...\n"
     ]
    }
   ],
   "source": [
    "entity_names =[\n",
    "'CompanyRel_CompanyRel',\n",
    "'Competitors_Competitors',\n",
    "'Competitors_CompetitorToSource',\n",
    "'PeopleBasic_Person',\n",
    "'PeopleBasic_ProToProFunction',\n",
    "'CompanyNames_AlternateCompanyName',\n",
    "'CompanyNames_SearchCompanyName',\n",
    "'KeyDocument_KeyDocumentToSecurity',\n",
    "'FinAuditor_FinancialToAdvisor',\n",
    "'BusinessRel_BusinessRel',\n",
    "'Product_Product',\n",
    "'KeyDocument_KeyDocument',\n",
    "'PeopleBasic_Professional',\n",
    "'CompanyNames_NativeCompanyName'\n",
    "]\n",
    "\n",
    "durations, cnt = [], 0\n",
    "with SQL_Communicator() as sc:\n",
    "    for en in tqdm(entity_names):\n",
    "        cnt += 1\n",
    "        print(f'flow for target entity {en}..')\n",
    "        en2 = nc.default_rename(en)\n",
    "        sp_names = [nc.pull_sp_name(en2), nc.merge_sp_name(en2)]\n",
    "        stage_tbl = nc.stg_table_name(en)\n",
    "        trg_tbl = nc.table_name(nc.default_rename(en))\n",
    "        ent_durs, flow_td = [en2], timedelta()  \n",
    "        for i, sp_name in enumerate(sp_names):\n",
    "            exec_stm = f\"EXEC {sp_name}\"\n",
    "            print(f'- {exec_stm}...')\n",
    "            try:\n",
    "                td = sc.get_execution_metrics(exec_stm)\n",
    "                ent_durs.append(format_time_delta(td))\n",
    "                if i < 2:\n",
    "                    flow_td +=td\n",
    "                if  i == 1:\n",
    "                    ent_durs.append(format_time_delta(flow_td))\n",
    "                print(f'  - duration {format_time_delta(td)}')\n",
    "                if i == 0:  ## pull sp\n",
    "                    rows_count, table_size = sc.get_table_size(stage_tbl)\n",
    "                    print(f'rows {rows_count}, stage table size: {table_size}')\n",
    "                # sc.get_execution_metrics(f'TRUNCATE table {trg_tbl}')\n",
    "            except Exception as ex:\n",
    "                print(f'shit happened {ex}')\n",
    "        rows_count = rows_count /1000\n",
    "        velocity = table_size / Decimal(flow_td.total_seconds()) if flow_td.total_seconds() else 0 \n",
    "        ent_durs.extend([f'{rows_count:7.2f}' , f'{table_size:7.2f}', f'{velocity:7.2f}'])\n",
    "        durations.append(ent_durs)\n",
    "        if cnt == len(entity_names):\n",
    "            print('done')\n",
    "sc = None\n",
    "        # ent_durs.append(sum(ent_durs))\n"
   ]
  },
  {
   "cell_type": "code",
   "execution_count": null,
   "id": "9e97f970",
   "metadata": {},
   "outputs": [
    {
     "data": {
      "text/html": [
       "<div>\n",
       "<style scoped>\n",
       "    .dataframe tbody tr th:only-of-type {\n",
       "        vertical-align: middle;\n",
       "    }\n",
       "\n",
       "    .dataframe tbody tr th {\n",
       "        vertical-align: top;\n",
       "    }\n",
       "\n",
       "    .dataframe thead th {\n",
       "        text-align: right;\n",
       "    }\n",
       "</style>\n",
       "<table border=\"1\" class=\"dataframe\">\n",
       "  <thead>\n",
       "    <tr style=\"text-align: right;\">\n",
       "      <th></th>\n",
       "      <th>Entity name</th>\n",
       "      <th>Pull SP</th>\n",
       "      <th>Merge SP</th>\n",
       "      <th>sum</th>\n",
       "      <th>rows_count, K</th>\n",
       "      <th>table_size, MB</th>\n",
       "      <th>velocity, MB/sec</th>\n",
       "    </tr>\n",
       "  </thead>\n",
       "  <tbody>\n",
       "    <tr>\n",
       "      <th>0</th>\n",
       "      <td>CompanyRel_CompanyRel2</td>\n",
       "      <td>31.78</td>\n",
       "      <td>01:01</td>\n",
       "      <td>01:33</td>\n",
       "      <td>13406.76</td>\n",
       "      <td>653.20</td>\n",
       "      <td>6.98</td>\n",
       "    </tr>\n",
       "    <tr>\n",
       "      <th>1</th>\n",
       "      <td>Competitors_Competitors2</td>\n",
       "      <td>2.65</td>\n",
       "      <td>4.25</td>\n",
       "      <td>6.90</td>\n",
       "      <td>920.34</td>\n",
       "      <td>31.45</td>\n",
       "      <td>4.56</td>\n",
       "    </tr>\n",
       "  </tbody>\n",
       "</table>\n",
       "</div>"
      ],
      "text/plain": [
       "                Entity name Pull SP Merge SP    sum rows_count, K  \\\n",
       "0    CompanyRel_CompanyRel2   31.78    01:01  01:33      13406.76   \n",
       "1  Competitors_Competitors2    2.65     4.25   6.90        920.34   \n",
       "\n",
       "  table_size, MB velocity, MB/sec  \n",
       "0         653.20             6.98  \n",
       "1          31.45             4.56  "
      ]
     },
     "execution_count": 10,
     "metadata": {},
     "output_type": "execute_result"
    }
   ],
   "source": [
    "columns = ['Entity name', 'Pull SP', 'Merge SP', 'sum',  'rows_count, K', 'table_size, MB', 'velocity, MB/sec']\n",
    "df = pd.DataFrame(durations, columns = columns)\n",
    "# df['table_size, MB'] = df ['table_size, MB'].astype('int')\n",
    "# df['rows_count, K'] = df['rows_count, K']/1000\n",
    "df"
   ]
  }
 ],
 "metadata": {
  "kernelspec": {
   "display_name": "Python 3 (ipykernel)",
   "language": "python",
   "name": "python3"
  },
  "language_info": {
   "codemirror_mode": {
    "name": "ipython",
    "version": 3
   },
   "file_extension": ".py",
   "mimetype": "text/x-python",
   "name": "python",
   "nbconvert_exporter": "python",
   "pygments_lexer": "ipython3",
   "version": "3.12.3"
  }
 },
 "nbformat": 4,
 "nbformat_minor": 5
}
